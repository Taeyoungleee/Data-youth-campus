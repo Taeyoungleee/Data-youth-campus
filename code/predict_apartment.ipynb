{
 "cells": [
  {
   "cell_type": "markdown",
   "id": "9826d561",
   "metadata": {},
   "source": [
    "# Import"
   ]
  },
  {
   "cell_type": "code",
   "execution_count": 74,
   "id": "52e91d77",
   "metadata": {},
   "outputs": [],
   "source": [
    "import pandas as pd\n",
    "import numpy as np\n",
    "from tqdm import tqdm\n",
    "from sklearn.tree import DecisionTreeRegressor\n",
    "from sklearn.ensemble import RandomForestRegressor\n",
    "from sklearn.preprocessing import  LabelEncoder\n",
    "from sklearn.metrics import mean_squared_error\n",
    "from sklearn.metrics import mean_absolute_error\n",
    "from dateutil.relativedelta import relativedelta\n",
    "from sklearn.preprocessing import LabelEncoder\n",
    "import xgboost as xgb\n",
    "import lightgbm as lgb\n",
    "from catboost import CatBoostRegressor\n",
    "from sklearn.ensemble import GradientBoostingRegressor\n",
    "from datetime import datetime,timedelta\n",
    "\n",
    "import re\n",
    "import optuna\n",
    "from optuna.integration import XGBoostPruningCallback"
   ]
  },
  {
   "cell_type": "markdown",
   "id": "3b6dcc1c",
   "metadata": {},
   "source": [
    "# Data load"
   ]
  },
  {
   "cell_type": "markdown",
   "id": "31c444da",
   "metadata": {},
   "source": [
    "---\n",
    "`train` : train 데이터 셋  \n",
    "`test` : test 데이터 셋  \n",
    "`submission` : 제출 파일  \n",
    "`interest_rate` : 금리 데이터셋  \n",
    "`sub_data` : 전세 가격 데이터셋\n",
    "\n",
    "---"
   ]
  },
  {
   "cell_type": "code",
   "execution_count": 75,
   "id": "22e0a833",
   "metadata": {},
   "outputs": [],
   "source": [
    "import pandas as pd\n",
    "import warnings\n",
    "warnings.filterwarnings('ignore')\n",
    "train = pd.read_csv('train.csv')\n",
    "test = pd.read_csv('test.csv')\n",
    "submission = pd.read_csv('sample_submission.csv')\n",
    "interest_rate = pd.read_csv('interest_rate.csv')\n",
    "sub_data = pd.read_csv('sub_data (1).csv')"
   ]
  },
  {
   "cell_type": "code",
   "execution_count": 76,
   "id": "4f580a1e",
   "metadata": {
    "scrolled": false
   },
   "outputs": [
    {
     "data": {
      "text/html": [
       "<div>\n",
       "<style scoped>\n",
       "    .dataframe tbody tr th:only-of-type {\n",
       "        vertical-align: middle;\n",
       "    }\n",
       "\n",
       "    .dataframe tbody tr th {\n",
       "        vertical-align: top;\n",
       "    }\n",
       "\n",
       "    .dataframe thead th {\n",
       "        text-align: right;\n",
       "    }\n",
       "</style>\n",
       "<table border=\"1\" class=\"dataframe\">\n",
       "  <thead>\n",
       "    <tr style=\"text-align: right;\">\n",
       "      <th></th>\n",
       "      <th>id</th>\n",
       "      <th>sigungu</th>\n",
       "      <th>jibun</th>\n",
       "      <th>apt_name</th>\n",
       "      <th>exclusive_use_area</th>\n",
       "      <th>transaction_year_month</th>\n",
       "      <th>transaction_day</th>\n",
       "      <th>transaction_real_price</th>\n",
       "      <th>floor</th>\n",
       "      <th>year_of_completion</th>\n",
       "    </tr>\n",
       "  </thead>\n",
       "  <tbody>\n",
       "    <tr>\n",
       "      <th>0</th>\n",
       "      <td>TRAIN_0000</td>\n",
       "      <td>서울특별시 강남구 대치동</td>\n",
       "      <td>503</td>\n",
       "      <td>개포우성1</td>\n",
       "      <td>158.54</td>\n",
       "      <td>201401</td>\n",
       "      <td>7</td>\n",
       "      <td>174000</td>\n",
       "      <td>13</td>\n",
       "      <td>1983</td>\n",
       "    </tr>\n",
       "    <tr>\n",
       "      <th>1</th>\n",
       "      <td>TRAIN_0001</td>\n",
       "      <td>서울특별시 강남구 대치동</td>\n",
       "      <td>503</td>\n",
       "      <td>개포우성1</td>\n",
       "      <td>127.61</td>\n",
       "      <td>201401</td>\n",
       "      <td>9</td>\n",
       "      <td>157500</td>\n",
       "      <td>6</td>\n",
       "      <td>1983</td>\n",
       "    </tr>\n",
       "  </tbody>\n",
       "</table>\n",
       "</div>"
      ],
      "text/plain": [
       "           id        sigungu jibun apt_name  exclusive_use_area  \\\n",
       "0  TRAIN_0000  서울특별시 강남구 대치동   503    개포우성1              158.54   \n",
       "1  TRAIN_0001  서울특별시 강남구 대치동   503    개포우성1              127.61   \n",
       "\n",
       "   transaction_year_month  transaction_day  transaction_real_price  floor  \\\n",
       "0                  201401                7                  174000     13   \n",
       "1                  201401                9                  157500      6   \n",
       "\n",
       "   year_of_completion  \n",
       "0                1983  \n",
       "1                1983  "
      ]
     },
     "execution_count": 76,
     "metadata": {},
     "output_type": "execute_result"
    }
   ],
   "source": [
    "train.head(2)"
   ]
  },
  {
   "cell_type": "markdown",
   "id": "3521fdb8",
   "metadata": {},
   "source": [
    "# Preprocessing"
   ]
  },
  {
   "cell_type": "code",
   "execution_count": 77,
   "id": "43865d5e",
   "metadata": {},
   "outputs": [],
   "source": [
    "train['train_test_sub'] = 'train'\n",
    "test['train_test_sub'] = 'test'\n",
    "sub_data['train_test_sub'] = 'sub'\n",
    "all_data = pd.concat([train, test,sub_data])\n",
    "all_data = all_data.reset_index(drop=True)"
   ]
  },
  {
   "cell_type": "markdown",
   "id": "d5f88fee",
   "metadata": {},
   "source": [
    "## Date"
   ]
  },
  {
   "cell_type": "code",
   "execution_count": 78,
   "id": "1f5e9428",
   "metadata": {},
   "outputs": [],
   "source": [
    "def make_date(row):\n",
    "    #print(type(row['월일']))\n",
    "    month_day = row['월일'].replace('월 ', '-')\n",
    "    month_day = month_day.replace('일', '')\n",
    "    date = str(row['연도'])+ '-' + month_day\n",
    "    return date\n",
    "\n",
    "interest_rate['날짜'] = interest_rate.apply(lambda x: make_date(x), axis=1)\n",
    "interest_rate['날짜'] = pd.to_datetime(interest_rate['날짜'])"
   ]
  },
  {
   "cell_type": "code",
   "execution_count": 79,
   "id": "1c1bfc3d",
   "metadata": {},
   "outputs": [],
   "source": [
    "def preprocess_date(x):\n",
    "    if type(x) == int:\n",
    "        if x < 10:\n",
    "            return '0'+str(x)\n",
    "        else:\n",
    "            return str(x)\n",
    "    else:\n",
    "        return x\n",
    "\n",
    "all_data['transaction_day'] = all_data['transaction_day'].apply(preprocess_date)\n",
    "all_data['transaction_date'] = all_data['transaction_year_month'].astype(int).astype(str) + all_data['transaction_day'].astype(str)\n",
    "all_data['transaction_date'] = pd.to_datetime(all_data['transaction_date'])\n",
    "all_data['transaction_year'] = all_data['transaction_date'].dt.year\n",
    "all_data['transaction_month'] = all_data['transaction_date'].dt.month"
   ]
  },
  {
   "cell_type": "code",
   "execution_count": 80,
   "id": "55fad72e",
   "metadata": {},
   "outputs": [
    {
     "data": {
      "text/html": [
       "<div>\n",
       "<style scoped>\n",
       "    .dataframe tbody tr th:only-of-type {\n",
       "        vertical-align: middle;\n",
       "    }\n",
       "\n",
       "    .dataframe tbody tr th {\n",
       "        vertical-align: top;\n",
       "    }\n",
       "\n",
       "    .dataframe thead th {\n",
       "        text-align: right;\n",
       "    }\n",
       "</style>\n",
       "<table border=\"1\" class=\"dataframe\">\n",
       "  <thead>\n",
       "    <tr style=\"text-align: right;\">\n",
       "      <th></th>\n",
       "      <th>id</th>\n",
       "      <th>sigungu</th>\n",
       "      <th>jibun</th>\n",
       "      <th>apt_name</th>\n",
       "      <th>exclusive_use_area</th>\n",
       "      <th>transaction_year_month</th>\n",
       "      <th>transaction_day</th>\n",
       "      <th>transaction_real_price</th>\n",
       "      <th>floor</th>\n",
       "      <th>year_of_completion</th>\n",
       "      <th>train_test_sub</th>\n",
       "      <th>transaction_date</th>\n",
       "      <th>transaction_year</th>\n",
       "      <th>transaction_month</th>\n",
       "    </tr>\n",
       "  </thead>\n",
       "  <tbody>\n",
       "    <tr>\n",
       "      <th>5869</th>\n",
       "      <td>TRAIN_5869</td>\n",
       "      <td>서울특별시 강남구 대치동</td>\n",
       "      <td>503</td>\n",
       "      <td>개포우성1</td>\n",
       "      <td>158.54</td>\n",
       "      <td>202203</td>\n",
       "      <td>19</td>\n",
       "      <td>510000.0</td>\n",
       "      <td>12</td>\n",
       "      <td>1983</td>\n",
       "      <td>train</td>\n",
       "      <td>2022-03-19</td>\n",
       "      <td>2022</td>\n",
       "      <td>3</td>\n",
       "    </tr>\n",
       "    <tr>\n",
       "      <th>5870</th>\n",
       "      <td>TRAIN_5870</td>\n",
       "      <td>서울특별시 강남구 대치동</td>\n",
       "      <td>503</td>\n",
       "      <td>개포우성1</td>\n",
       "      <td>127.61</td>\n",
       "      <td>202203</td>\n",
       "      <td>24</td>\n",
       "      <td>375000.0</td>\n",
       "      <td>1</td>\n",
       "      <td>1983</td>\n",
       "      <td>train</td>\n",
       "      <td>2022-03-24</td>\n",
       "      <td>2022</td>\n",
       "      <td>3</td>\n",
       "    </tr>\n",
       "    <tr>\n",
       "      <th>5871</th>\n",
       "      <td>TRAIN_5871</td>\n",
       "      <td>서울특별시 강남구 대치동</td>\n",
       "      <td>503</td>\n",
       "      <td>개포우성1</td>\n",
       "      <td>127.61</td>\n",
       "      <td>202203</td>\n",
       "      <td>30</td>\n",
       "      <td>409000.0</td>\n",
       "      <td>11</td>\n",
       "      <td>1983</td>\n",
       "      <td>train</td>\n",
       "      <td>2022-03-30</td>\n",
       "      <td>2022</td>\n",
       "      <td>3</td>\n",
       "    </tr>\n",
       "    <tr>\n",
       "      <th>5872</th>\n",
       "      <td>TRAIN_5872</td>\n",
       "      <td>서울특별시 강남구 대치동</td>\n",
       "      <td>503</td>\n",
       "      <td>개포우성1</td>\n",
       "      <td>84.81</td>\n",
       "      <td>202205</td>\n",
       "      <td>20</td>\n",
       "      <td>323000.0</td>\n",
       "      <td>14</td>\n",
       "      <td>1983</td>\n",
       "      <td>train</td>\n",
       "      <td>2022-05-20</td>\n",
       "      <td>2022</td>\n",
       "      <td>5</td>\n",
       "    </tr>\n",
       "    <tr>\n",
       "      <th>5873</th>\n",
       "      <td>TRAIN_5873</td>\n",
       "      <td>서울특별시 강남구 대치동</td>\n",
       "      <td>503</td>\n",
       "      <td>개포우성1</td>\n",
       "      <td>84.81</td>\n",
       "      <td>202207</td>\n",
       "      <td>10</td>\n",
       "      <td>310000.0</td>\n",
       "      <td>14</td>\n",
       "      <td>1983</td>\n",
       "      <td>train</td>\n",
       "      <td>2022-07-10</td>\n",
       "      <td>2022</td>\n",
       "      <td>7</td>\n",
       "    </tr>\n",
       "  </tbody>\n",
       "</table>\n",
       "</div>"
      ],
      "text/plain": [
       "              id        sigungu jibun apt_name  exclusive_use_area  \\\n",
       "5869  TRAIN_5869  서울특별시 강남구 대치동   503    개포우성1              158.54   \n",
       "5870  TRAIN_5870  서울특별시 강남구 대치동   503    개포우성1              127.61   \n",
       "5871  TRAIN_5871  서울특별시 강남구 대치동   503    개포우성1              127.61   \n",
       "5872  TRAIN_5872  서울특별시 강남구 대치동   503    개포우성1               84.81   \n",
       "5873  TRAIN_5873  서울특별시 강남구 대치동   503    개포우성1               84.81   \n",
       "\n",
       "      transaction_year_month transaction_day  transaction_real_price  floor  \\\n",
       "5869                  202203              19                510000.0     12   \n",
       "5870                  202203              24                375000.0      1   \n",
       "5871                  202203              30                409000.0     11   \n",
       "5872                  202205              20                323000.0     14   \n",
       "5873                  202207              10                310000.0     14   \n",
       "\n",
       "      year_of_completion train_test_sub transaction_date  transaction_year  \\\n",
       "5869                1983          train       2022-03-19              2022   \n",
       "5870                1983          train       2022-03-24              2022   \n",
       "5871                1983          train       2022-03-30              2022   \n",
       "5872                1983          train       2022-05-20              2022   \n",
       "5873                1983          train       2022-07-10              2022   \n",
       "\n",
       "      transaction_month  \n",
       "5869                  3  \n",
       "5870                  3  \n",
       "5871                  3  \n",
       "5872                  5  \n",
       "5873                  7  "
      ]
     },
     "execution_count": 80,
     "metadata": {},
     "output_type": "execute_result"
    }
   ],
   "source": [
    "all_data[(all_data['transaction_year'] == 2022)&(all_data['apt_name']=='개포우성1')].head()"
   ]
  },
  {
   "cell_type": "code",
   "execution_count": 82,
   "id": "54f446a1",
   "metadata": {
    "scrolled": true
   },
   "outputs": [
    {
     "data": {
      "text/html": [
       "<div>\n",
       "<style scoped>\n",
       "    .dataframe tbody tr th:only-of-type {\n",
       "        vertical-align: middle;\n",
       "    }\n",
       "\n",
       "    .dataframe tbody tr th {\n",
       "        vertical-align: top;\n",
       "    }\n",
       "\n",
       "    .dataframe thead th {\n",
       "        text-align: right;\n",
       "    }\n",
       "</style>\n",
       "<table border=\"1\" class=\"dataframe\">\n",
       "  <thead>\n",
       "    <tr style=\"text-align: right;\">\n",
       "      <th></th>\n",
       "      <th>날짜</th>\n",
       "      <th>year</th>\n",
       "      <th>month</th>\n",
       "      <th>day</th>\n",
       "      <th>금리</th>\n",
       "    </tr>\n",
       "  </thead>\n",
       "  <tbody>\n",
       "    <tr>\n",
       "      <th>0</th>\n",
       "      <td>2023-01-13</td>\n",
       "      <td>2023</td>\n",
       "      <td>1</td>\n",
       "      <td>13</td>\n",
       "      <td>3.50</td>\n",
       "    </tr>\n",
       "    <tr>\n",
       "      <th>1</th>\n",
       "      <td>2022-11-24</td>\n",
       "      <td>2022</td>\n",
       "      <td>11</td>\n",
       "      <td>24</td>\n",
       "      <td>3.25</td>\n",
       "    </tr>\n",
       "    <tr>\n",
       "      <th>2</th>\n",
       "      <td>2022-10-12</td>\n",
       "      <td>2022</td>\n",
       "      <td>10</td>\n",
       "      <td>12</td>\n",
       "      <td>3.00</td>\n",
       "    </tr>\n",
       "    <tr>\n",
       "      <th>3</th>\n",
       "      <td>2022-08-25</td>\n",
       "      <td>2022</td>\n",
       "      <td>8</td>\n",
       "      <td>25</td>\n",
       "      <td>2.50</td>\n",
       "    </tr>\n",
       "    <tr>\n",
       "      <th>4</th>\n",
       "      <td>2022-07-13</td>\n",
       "      <td>2022</td>\n",
       "      <td>7</td>\n",
       "      <td>13</td>\n",
       "      <td>2.25</td>\n",
       "    </tr>\n",
       "    <tr>\n",
       "      <th>5</th>\n",
       "      <td>2022-05-26</td>\n",
       "      <td>2022</td>\n",
       "      <td>5</td>\n",
       "      <td>26</td>\n",
       "      <td>1.75</td>\n",
       "    </tr>\n",
       "    <tr>\n",
       "      <th>6</th>\n",
       "      <td>2022-04-14</td>\n",
       "      <td>2022</td>\n",
       "      <td>4</td>\n",
       "      <td>14</td>\n",
       "      <td>1.50</td>\n",
       "    </tr>\n",
       "    <tr>\n",
       "      <th>7</th>\n",
       "      <td>2022-01-14</td>\n",
       "      <td>2022</td>\n",
       "      <td>1</td>\n",
       "      <td>14</td>\n",
       "      <td>1.25</td>\n",
       "    </tr>\n",
       "    <tr>\n",
       "      <th>8</th>\n",
       "      <td>2021-11-25</td>\n",
       "      <td>2021</td>\n",
       "      <td>11</td>\n",
       "      <td>25</td>\n",
       "      <td>1.00</td>\n",
       "    </tr>\n",
       "    <tr>\n",
       "      <th>9</th>\n",
       "      <td>2021-08-26</td>\n",
       "      <td>2021</td>\n",
       "      <td>8</td>\n",
       "      <td>26</td>\n",
       "      <td>0.75</td>\n",
       "    </tr>\n",
       "    <tr>\n",
       "      <th>10</th>\n",
       "      <td>2020-05-28</td>\n",
       "      <td>2020</td>\n",
       "      <td>5</td>\n",
       "      <td>28</td>\n",
       "      <td>0.50</td>\n",
       "    </tr>\n",
       "    <tr>\n",
       "      <th>11</th>\n",
       "      <td>2020-03-17</td>\n",
       "      <td>2020</td>\n",
       "      <td>3</td>\n",
       "      <td>17</td>\n",
       "      <td>0.75</td>\n",
       "    </tr>\n",
       "    <tr>\n",
       "      <th>12</th>\n",
       "      <td>2019-10-16</td>\n",
       "      <td>2019</td>\n",
       "      <td>10</td>\n",
       "      <td>16</td>\n",
       "      <td>1.25</td>\n",
       "    </tr>\n",
       "    <tr>\n",
       "      <th>13</th>\n",
       "      <td>2019-07-18</td>\n",
       "      <td>2019</td>\n",
       "      <td>7</td>\n",
       "      <td>18</td>\n",
       "      <td>1.50</td>\n",
       "    </tr>\n",
       "    <tr>\n",
       "      <th>14</th>\n",
       "      <td>2018-11-30</td>\n",
       "      <td>2018</td>\n",
       "      <td>11</td>\n",
       "      <td>30</td>\n",
       "      <td>1.75</td>\n",
       "    </tr>\n",
       "    <tr>\n",
       "      <th>15</th>\n",
       "      <td>2017-11-30</td>\n",
       "      <td>2017</td>\n",
       "      <td>11</td>\n",
       "      <td>30</td>\n",
       "      <td>1.50</td>\n",
       "    </tr>\n",
       "    <tr>\n",
       "      <th>16</th>\n",
       "      <td>2016-06-09</td>\n",
       "      <td>2016</td>\n",
       "      <td>6</td>\n",
       "      <td>9</td>\n",
       "      <td>1.25</td>\n",
       "    </tr>\n",
       "    <tr>\n",
       "      <th>17</th>\n",
       "      <td>2015-06-11</td>\n",
       "      <td>2015</td>\n",
       "      <td>6</td>\n",
       "      <td>11</td>\n",
       "      <td>1.50</td>\n",
       "    </tr>\n",
       "    <tr>\n",
       "      <th>18</th>\n",
       "      <td>2015-03-12</td>\n",
       "      <td>2015</td>\n",
       "      <td>3</td>\n",
       "      <td>12</td>\n",
       "      <td>1.75</td>\n",
       "    </tr>\n",
       "    <tr>\n",
       "      <th>19</th>\n",
       "      <td>2014-10-15</td>\n",
       "      <td>2014</td>\n",
       "      <td>10</td>\n",
       "      <td>15</td>\n",
       "      <td>2.00</td>\n",
       "    </tr>\n",
       "    <tr>\n",
       "      <th>20</th>\n",
       "      <td>2014-08-14</td>\n",
       "      <td>2014</td>\n",
       "      <td>8</td>\n",
       "      <td>14</td>\n",
       "      <td>2.25</td>\n",
       "    </tr>\n",
       "    <tr>\n",
       "      <th>21</th>\n",
       "      <td>2013-05-09</td>\n",
       "      <td>2013</td>\n",
       "      <td>5</td>\n",
       "      <td>9</td>\n",
       "      <td>2.50</td>\n",
       "    </tr>\n",
       "  </tbody>\n",
       "</table>\n",
       "</div>"
      ],
      "text/plain": [
       "           날짜  year  month  day    금리\n",
       "0  2023-01-13  2023      1   13  3.50\n",
       "1  2022-11-24  2022     11   24  3.25\n",
       "2  2022-10-12  2022     10   12  3.00\n",
       "3  2022-08-25  2022      8   25  2.50\n",
       "4  2022-07-13  2022      7   13  2.25\n",
       "5  2022-05-26  2022      5   26  1.75\n",
       "6  2022-04-14  2022      4   14  1.50\n",
       "7  2022-01-14  2022      1   14  1.25\n",
       "8  2021-11-25  2021     11   25  1.00\n",
       "9  2021-08-26  2021      8   26  0.75\n",
       "10 2020-05-28  2020      5   28  0.50\n",
       "11 2020-03-17  2020      3   17  0.75\n",
       "12 2019-10-16  2019     10   16  1.25\n",
       "13 2019-07-18  2019      7   18  1.50\n",
       "14 2018-11-30  2018     11   30  1.75\n",
       "15 2017-11-30  2017     11   30  1.50\n",
       "16 2016-06-09  2016      6    9  1.25\n",
       "17 2015-06-11  2015      6   11  1.50\n",
       "18 2015-03-12  2015      3   12  1.75\n",
       "19 2014-10-15  2014     10   15  2.00\n",
       "20 2014-08-14  2014      8   14  2.25\n",
       "21 2013-05-09  2013      5    9  2.50"
      ]
     },
     "execution_count": 82,
     "metadata": {},
     "output_type": "execute_result"
    }
   ],
   "source": [
    "interest_rate['year'] = interest_rate['날짜'].dt.year\n",
    "interest_rate['month'] = interest_rate['날짜'].dt.month\n",
    "interest_rate['day'] = interest_rate['날짜'].dt.day\n",
    "interest_rate = interest_rate[['날짜','year','month','day','금리']]\n",
    "interest_rate = interest_rate[interest_rate['year']>=2013]\n",
    "interest_rate"
   ]
  },
  {
   "cell_type": "code",
   "execution_count": 114,
   "id": "361b7460",
   "metadata": {},
   "outputs": [
    {
     "name": "stderr",
     "output_type": "stream",
     "text": [
      "100%|██████████████████████████████████████████████████████████████████| 23984/23984 [00:04<00:00, 5148.53it/s]\n"
     ]
    }
   ],
   "source": [
    "for idx, row in tqdm(all_data.iterrows(), total = all_data.shape[0]):\n",
    "    date = row['transaction_date']\n",
    "    rate = interest_rate[interest_rate['날짜'] <= date].iloc[0]['금리']\n",
    "    all_data.loc[idx, 'interest_rate'] = rate\n"
   ]
  },
  {
   "cell_type": "markdown",
   "id": "1f6434b7",
   "metadata": {},
   "source": [
    "# Feature Engineering"
   ]
  },
  {
   "cell_type": "code",
   "execution_count": 115,
   "id": "40f4bde4",
   "metadata": {},
   "outputs": [
    {
     "name": "stdout",
     "output_type": "stream",
     "text": [
      "856\n",
      "218\n"
     ]
    }
   ],
   "source": [
    "# 전용면적 40 이하 데이터 개수 확인\n",
    "print(sum(all_data['exclusive_use_area']<40))\n",
    "print(sum(all_data['exclusive_use_area']<30))"
   ]
  },
  {
   "cell_type": "code",
   "execution_count": 116,
   "id": "7e02edd9",
   "metadata": {},
   "outputs": [
    {
     "name": "stdout",
     "output_type": "stream",
     "text": [
      "{'(977-)'}\n",
      "set()\n"
     ]
    }
   ],
   "source": [
    "tmp_train = all_data[all_data['train_test_sub']=='train']\n",
    "tmp_test = all_data[all_data['train_test_sub']=='test']\n",
    "tmp_sub = all_data[all_data['train_test_sub']=='sub']\n",
    "\n",
    "# test셋에만 있는 apt_name 이 있는지 확인\n",
    "print(set(tmp_test['apt_name'].unique()) - set(tmp_train['apt_name'].unique()))\n",
    "print(set(tmp_test['apt_name'].unique()) - set(tmp_sub['apt_name'].unique()))"
   ]
  },
  {
   "cell_type": "markdown",
   "id": "b530ed4b",
   "metadata": {},
   "source": [
    "## make_area_bucket"
   ]
  },
  {
   "cell_type": "code",
   "execution_count": 117,
   "id": "1ee8ddb4",
   "metadata": {},
   "outputs": [
    {
     "data": {
      "text/plain": [
       "bucket_area\n",
       "2    12771\n",
       "3     8635\n",
       "1     1722\n",
       "0      856\n",
       "Name: count, dtype: int64"
      ]
     },
     "execution_count": 117,
     "metadata": {},
     "output_type": "execute_result"
    }
   ],
   "source": [
    "def make_area_bucket(area):\n",
    "    if area <= 40:\n",
    "        return 0\n",
    "    elif area < 60: # 59타입\n",
    "        return 1\n",
    "    elif area < 85: # 84타입\n",
    "        return 2\n",
    "    else:\n",
    "        return 3\n",
    "    \n",
    "# 아파트 면적 전처리\n",
    "all_data['bucket_area'] = all_data['exclusive_use_area'].apply(make_area_bucket)\n",
    "all_data['bucket_area'].value_counts()"
   ]
  },
  {
   "cell_type": "markdown",
   "id": "7287f950",
   "metadata": {},
   "source": [
    "## make_new_area\n",
    "- 10단위로 새로운 면적 feature를 생성"
   ]
  },
  {
   "cell_type": "code",
   "execution_count": 118,
   "id": "562d827c",
   "metadata": {},
   "outputs": [
    {
     "data": {
      "text/plain": [
       "new_area\n",
       "80     8153\n",
       "70     4772\n",
       "120    2485\n",
       "110    1783\n",
       "50     1641\n",
       "90     1404\n",
       "140     678\n",
       "160     664\n",
       "30      638\n",
       "130     420\n",
       "100     412\n",
       "150     353\n",
       "20      218\n",
       "60      102\n",
       "190      84\n",
       "40       81\n",
       "170      48\n",
       "180      35\n",
       "200      13\n",
       "Name: count, dtype: int64"
      ]
     },
     "execution_count": 118,
     "metadata": {},
     "output_type": "execute_result"
    }
   ],
   "source": [
    "def make_new_area(area):\n",
    "    return (area//10)*10\n",
    "    \n",
    "# 아파트 면적 전처리\n",
    "all_data['new_area'] = all_data['exclusive_use_area'].apply(make_new_area)\n",
    "all_data['new_area'] = all_data['new_area'].astype(int)\n",
    "all_data['new_area'].value_counts()"
   ]
  },
  {
   "cell_type": "markdown",
   "id": "f9d46b87",
   "metadata": {},
   "source": [
    "## ver2_all_data  \n",
    "test셋에 있는 apt_name 데이터만 사용하기위해 새로운 df 선언  \n",
    "전세 데이터는 제외\n"
   ]
  },
  {
   "cell_type": "code",
   "execution_count": 119,
   "id": "477ea644",
   "metadata": {},
   "outputs": [
    {
     "name": "stdout",
     "output_type": "stream",
     "text": [
      "데이터 개수 :  23984 > 21864\n"
     ]
    },
    {
     "data": {
      "text/html": [
       "<div>\n",
       "<style scoped>\n",
       "    .dataframe tbody tr th:only-of-type {\n",
       "        vertical-align: middle;\n",
       "    }\n",
       "\n",
       "    .dataframe tbody tr th {\n",
       "        vertical-align: top;\n",
       "    }\n",
       "\n",
       "    .dataframe thead th {\n",
       "        text-align: right;\n",
       "    }\n",
       "</style>\n",
       "<table border=\"1\" class=\"dataframe\">\n",
       "  <thead>\n",
       "    <tr style=\"text-align: right;\">\n",
       "      <th></th>\n",
       "      <th>id</th>\n",
       "      <th>sigungu</th>\n",
       "      <th>jibun</th>\n",
       "      <th>apt_name</th>\n",
       "      <th>exclusive_use_area</th>\n",
       "      <th>transaction_year_month</th>\n",
       "      <th>transaction_day</th>\n",
       "      <th>transaction_real_price</th>\n",
       "      <th>floor</th>\n",
       "      <th>year_of_completion</th>\n",
       "      <th>train_test_sub</th>\n",
       "      <th>transaction_date</th>\n",
       "      <th>transaction_year</th>\n",
       "      <th>transaction_month</th>\n",
       "      <th>bucket_area</th>\n",
       "      <th>new_area</th>\n",
       "      <th>interest_rate</th>\n",
       "    </tr>\n",
       "  </thead>\n",
       "  <tbody>\n",
       "    <tr>\n",
       "      <th>23974</th>\n",
       "      <td>NaN</td>\n",
       "      <td>서울특별시 강남구 대치동</td>\n",
       "      <td>992</td>\n",
       "      <td>현대1</td>\n",
       "      <td>84.27</td>\n",
       "      <td>202303</td>\n",
       "      <td>25</td>\n",
       "      <td>50000.0</td>\n",
       "      <td>14</td>\n",
       "      <td>1990</td>\n",
       "      <td>sub</td>\n",
       "      <td>2023-03-25</td>\n",
       "      <td>2023</td>\n",
       "      <td>3</td>\n",
       "      <td>2</td>\n",
       "      <td>80</td>\n",
       "      <td>3.5</td>\n",
       "    </tr>\n",
       "    <tr>\n",
       "      <th>23975</th>\n",
       "      <td>NaN</td>\n",
       "      <td>서울특별시 강남구 대치동</td>\n",
       "      <td>992</td>\n",
       "      <td>현대1</td>\n",
       "      <td>84.89</td>\n",
       "      <td>202305</td>\n",
       "      <td>23</td>\n",
       "      <td>52500.0</td>\n",
       "      <td>6</td>\n",
       "      <td>1990</td>\n",
       "      <td>sub</td>\n",
       "      <td>2023-05-23</td>\n",
       "      <td>2023</td>\n",
       "      <td>5</td>\n",
       "      <td>2</td>\n",
       "      <td>80</td>\n",
       "      <td>3.5</td>\n",
       "    </tr>\n",
       "    <tr>\n",
       "      <th>23976</th>\n",
       "      <td>NaN</td>\n",
       "      <td>서울특별시 강남구 대치동</td>\n",
       "      <td>992</td>\n",
       "      <td>현대1</td>\n",
       "      <td>84.89</td>\n",
       "      <td>202305</td>\n",
       "      <td>23</td>\n",
       "      <td>52500.0</td>\n",
       "      <td>6</td>\n",
       "      <td>1990</td>\n",
       "      <td>sub</td>\n",
       "      <td>2023-05-23</td>\n",
       "      <td>2023</td>\n",
       "      <td>5</td>\n",
       "      <td>2</td>\n",
       "      <td>80</td>\n",
       "      <td>3.5</td>\n",
       "    </tr>\n",
       "    <tr>\n",
       "      <th>23977</th>\n",
       "      <td>NaN</td>\n",
       "      <td>서울특별시 강남구 대치동</td>\n",
       "      <td>992</td>\n",
       "      <td>현대1</td>\n",
       "      <td>84.27</td>\n",
       "      <td>202305</td>\n",
       "      <td>27</td>\n",
       "      <td>45000.0</td>\n",
       "      <td>14</td>\n",
       "      <td>1990</td>\n",
       "      <td>sub</td>\n",
       "      <td>2023-05-27</td>\n",
       "      <td>2023</td>\n",
       "      <td>5</td>\n",
       "      <td>2</td>\n",
       "      <td>80</td>\n",
       "      <td>3.5</td>\n",
       "    </tr>\n",
       "    <tr>\n",
       "      <th>23978</th>\n",
       "      <td>NaN</td>\n",
       "      <td>서울특별시 강남구 대치동</td>\n",
       "      <td>992</td>\n",
       "      <td>현대1</td>\n",
       "      <td>84.27</td>\n",
       "      <td>202306</td>\n",
       "      <td>17</td>\n",
       "      <td>40000.0</td>\n",
       "      <td>10</td>\n",
       "      <td>1990</td>\n",
       "      <td>sub</td>\n",
       "      <td>2023-06-17</td>\n",
       "      <td>2023</td>\n",
       "      <td>6</td>\n",
       "      <td>2</td>\n",
       "      <td>80</td>\n",
       "      <td>3.5</td>\n",
       "    </tr>\n",
       "  </tbody>\n",
       "</table>\n",
       "</div>"
      ],
      "text/plain": [
       "        id        sigungu jibun apt_name  exclusive_use_area  \\\n",
       "23974  NaN  서울특별시 강남구 대치동   992      현대1               84.27   \n",
       "23975  NaN  서울특별시 강남구 대치동   992      현대1               84.89   \n",
       "23976  NaN  서울특별시 강남구 대치동   992      현대1               84.89   \n",
       "23977  NaN  서울특별시 강남구 대치동   992      현대1               84.27   \n",
       "23978  NaN  서울특별시 강남구 대치동   992      현대1               84.27   \n",
       "\n",
       "       transaction_year_month transaction_day  transaction_real_price  floor  \\\n",
       "23974                  202303              25                 50000.0     14   \n",
       "23975                  202305              23                 52500.0      6   \n",
       "23976                  202305              23                 52500.0      6   \n",
       "23977                  202305              27                 45000.0     14   \n",
       "23978                  202306              17                 40000.0     10   \n",
       "\n",
       "       year_of_completion train_test_sub transaction_date  transaction_year  \\\n",
       "23974                1990            sub       2023-03-25              2023   \n",
       "23975                1990            sub       2023-05-23              2023   \n",
       "23976                1990            sub       2023-05-23              2023   \n",
       "23977                1990            sub       2023-05-27              2023   \n",
       "23978                1990            sub       2023-06-17              2023   \n",
       "\n",
       "       transaction_month  bucket_area  new_area  interest_rate  \n",
       "23974                  3            2        80            3.5  \n",
       "23975                  5            2        80            3.5  \n",
       "23976                  5            2        80            3.5  \n",
       "23977                  5            2        80            3.5  \n",
       "23978                  6            2        80            3.5  "
      ]
     },
     "execution_count": 119,
     "metadata": {},
     "output_type": "execute_result"
    }
   ],
   "source": [
    "#ver2_all_data = all_data[all_data['train_test_sub']!='sub'].copy()\n",
    "ver2_all_data = all_data.copy()\n",
    "\n",
    "test_apt_name = sorted(list(tmp_test['apt_name'].unique()))\n",
    "ver2_all_data = ver2_all_data[ver2_all_data['apt_name'].isin(test_apt_name)]\n",
    "print('데이터 개수 : ',len(all_data),'>',len(ver2_all_data))\n",
    "ver2_all_data.tail()"
   ]
  },
  {
   "cell_type": "code",
   "execution_count": 120,
   "id": "af63bcdc",
   "metadata": {},
   "outputs": [
    {
     "data": {
      "text/plain": [
       "['(977-)',\n",
       " '개포우성1',\n",
       " '개포우성2',\n",
       " '대우아이빌멤버스(891-26)',\n",
       " '대우아이빌명문가(891-23)',\n",
       " '대치SKVIEW',\n",
       " '대치삼성',\n",
       " '대치아이파크',\n",
       " '대치우성아파트1동,2동,3동,5동,6동,7동',\n",
       " '대치현대',\n",
       " '대치효성',\n",
       " '동부센트레빌',\n",
       " '래미안대치팰리스',\n",
       " '래미안대치하이스턴',\n",
       " '선경1차(1동-7동)',\n",
       " '선경2차(8동-12동)',\n",
       " '선릉역대우아이빌(890-49)',\n",
       " '쌍용대치2',\n",
       " '쌍용대치아파트1동,2동,3동,5동,6동',\n",
       " '은마',\n",
       " '테헤란로대우아이빌(891-6)',\n",
       " '포스코더샵',\n",
       " '풍림아이원2차202동',\n",
       " '한보미도맨션1',\n",
       " '한보미도맨션2',\n",
       " '현대1']"
      ]
     },
     "execution_count": 120,
     "metadata": {},
     "output_type": "execute_result"
    }
   ],
   "source": [
    "test_apt_name"
   ]
  },
  {
   "cell_type": "code",
   "execution_count": 121,
   "id": "c2d5943d",
   "metadata": {
    "scrolled": true
   },
   "outputs": [
    {
     "name": "stdout",
     "output_type": "stream",
     "text": [
      "apt_name\n",
      "선경1차(1동-7동)     791\n",
      "선경2차(8동-12동)    513\n",
      "Name: count, dtype: int64\n",
      "sum : 1304\n",
      "check : 1304\n",
      "------------------------------------------------------------------------------------------\n",
      "apt_name\n",
      "한보미도맨션2    1228\n",
      "한보미도맨션1    1117\n",
      "Name: count, dtype: int64\n",
      "sum : 2345\n",
      "check : 2345\n",
      "------------------------------------------------------------------------------------------\n"
     ]
    }
   ],
   "source": [
    "def change_apt_name(all_data,apt_lst,result_name):\n",
    "    print(all_data[all_data['apt_name'].isin(apt_lst)]['apt_name'].value_counts())\n",
    "    print('sum :', len(all_data[all_data['apt_name'].isin(apt_lst)]['apt_name']))\n",
    "    all_data['apt_name'] = all_data['apt_name'].map(lambda x: result_name if x in apt_lst else x)\n",
    "    print('check :',len(all_data[all_data['apt_name']==result_name]))\n",
    "    print('---'*30)\n",
    "    return all_data\n",
    "\n",
    "ver2_all_data = change_apt_name(ver2_all_data,['선경1차(1동-7동)','선경2차(8동-12동)'],'선경')\n",
    "ver2_all_data = change_apt_name(ver2_all_data,['한보미도맨션1','한보미도맨션2'],'한보미도맨션')"
   ]
  },
  {
   "cell_type": "code",
   "execution_count": 122,
   "id": "b7184c75",
   "metadata": {},
   "outputs": [
    {
     "name": "stdout",
     "output_type": "stream",
     "text": [
      "101\n"
     ]
    }
   ],
   "source": [
    "# exclusive_use_area 의 데이터 타입 변경\n",
    "ver2_all_data['exclusive_use_area'] = ver2_all_data['exclusive_use_area'].astype(int)\n",
    "\n",
    "# 다시 그룹화 개수 확인\n",
    "print(len(ver2_all_data.groupby(['apt_name','exclusive_use_area'])['transaction_real_price'].mean().index))"
   ]
  },
  {
   "cell_type": "markdown",
   "id": "4ad7902a",
   "metadata": {},
   "source": [
    "### new apt_id\n",
    "\n",
    "- 'apt_name'과 'exclusive_area' 별로 그룹화 하려고 했으나 그룹이 너무 많아서 아파트 이름으로만 apt_id 를 만들기로함."
   ]
  },
  {
   "cell_type": "code",
   "execution_count": 123,
   "id": "69eab05a",
   "metadata": {},
   "outputs": [
    {
     "name": "stdout",
     "output_type": "stream",
     "text": [
      "0 23\n",
      "['(977-)' '개포우성1' '개포우성2' '대우아이빌멤버스(891-26)' '대우아이빌명문가(891-23)' '대치SKVIEW'\n",
      " '대치삼성' '대치아이파크' '대치우성아파트1동,2동,3동,5동,6동,7동' '대치현대' '대치효성' '동부센트레빌'\n",
      " '래미안대치팰리스' '래미안대치하이스턴' '선경' '선릉역대우아이빌(890-49)' '쌍용대치2'\n",
      " '쌍용대치아파트1동,2동,3동,5동,6동' '은마' '테헤란로대우아이빌(891-6)' '포스코더샵' '풍림아이원2차202동'\n",
      " '한보미도맨션' '현대1']\n"
     ]
    }
   ],
   "source": [
    "label_encoder = LabelEncoder()\n",
    "ver2_all_data['apt_id'] = label_encoder.fit_transform(ver2_all_data['apt_name'])\n",
    "print(min(ver2_all_data['apt_id']),max(ver2_all_data['apt_id']))\n",
    "print(label_encoder.classes_)"
   ]
  },
  {
   "cell_type": "markdown",
   "id": "742a17a6",
   "metadata": {},
   "source": [
    "## ver3_all_data\n",
    "ver2는 apt_name 으로만 구분지어 apt_id 를 만든 반면  \n",
    "ver3에서는 apt_name과 더불어 면적에 관한 feature도 함께 그룹화 하고자 함."
   ]
  },
  {
   "cell_type": "code",
   "execution_count": 124,
   "id": "a30129e1",
   "metadata": {},
   "outputs": [
    {
     "data": {
      "text/html": [
       "<div>\n",
       "<style scoped>\n",
       "    .dataframe tbody tr th:only-of-type {\n",
       "        vertical-align: middle;\n",
       "    }\n",
       "\n",
       "    .dataframe tbody tr th {\n",
       "        vertical-align: top;\n",
       "    }\n",
       "\n",
       "    .dataframe thead th {\n",
       "        text-align: right;\n",
       "    }\n",
       "</style>\n",
       "<table border=\"1\" class=\"dataframe\">\n",
       "  <thead>\n",
       "    <tr style=\"text-align: right;\">\n",
       "      <th></th>\n",
       "      <th>id</th>\n",
       "      <th>sigungu</th>\n",
       "      <th>jibun</th>\n",
       "      <th>apt_name</th>\n",
       "      <th>exclusive_use_area</th>\n",
       "      <th>transaction_year_month</th>\n",
       "      <th>transaction_day</th>\n",
       "      <th>transaction_real_price</th>\n",
       "      <th>floor</th>\n",
       "      <th>year_of_completion</th>\n",
       "      <th>train_test_sub</th>\n",
       "      <th>transaction_date</th>\n",
       "      <th>transaction_year</th>\n",
       "      <th>transaction_month</th>\n",
       "      <th>bucket_area</th>\n",
       "      <th>new_area</th>\n",
       "      <th>interest_rate</th>\n",
       "    </tr>\n",
       "  </thead>\n",
       "  <tbody>\n",
       "    <tr>\n",
       "      <th>23974</th>\n",
       "      <td>NaN</td>\n",
       "      <td>서울특별시 강남구 대치동</td>\n",
       "      <td>992</td>\n",
       "      <td>현대1</td>\n",
       "      <td>84.27</td>\n",
       "      <td>202303</td>\n",
       "      <td>25</td>\n",
       "      <td>50000.0</td>\n",
       "      <td>14</td>\n",
       "      <td>1990</td>\n",
       "      <td>sub</td>\n",
       "      <td>2023-03-25</td>\n",
       "      <td>2023</td>\n",
       "      <td>3</td>\n",
       "      <td>2</td>\n",
       "      <td>80</td>\n",
       "      <td>3.5</td>\n",
       "    </tr>\n",
       "    <tr>\n",
       "      <th>23975</th>\n",
       "      <td>NaN</td>\n",
       "      <td>서울특별시 강남구 대치동</td>\n",
       "      <td>992</td>\n",
       "      <td>현대1</td>\n",
       "      <td>84.89</td>\n",
       "      <td>202305</td>\n",
       "      <td>23</td>\n",
       "      <td>52500.0</td>\n",
       "      <td>6</td>\n",
       "      <td>1990</td>\n",
       "      <td>sub</td>\n",
       "      <td>2023-05-23</td>\n",
       "      <td>2023</td>\n",
       "      <td>5</td>\n",
       "      <td>2</td>\n",
       "      <td>80</td>\n",
       "      <td>3.5</td>\n",
       "    </tr>\n",
       "    <tr>\n",
       "      <th>23976</th>\n",
       "      <td>NaN</td>\n",
       "      <td>서울특별시 강남구 대치동</td>\n",
       "      <td>992</td>\n",
       "      <td>현대1</td>\n",
       "      <td>84.89</td>\n",
       "      <td>202305</td>\n",
       "      <td>23</td>\n",
       "      <td>52500.0</td>\n",
       "      <td>6</td>\n",
       "      <td>1990</td>\n",
       "      <td>sub</td>\n",
       "      <td>2023-05-23</td>\n",
       "      <td>2023</td>\n",
       "      <td>5</td>\n",
       "      <td>2</td>\n",
       "      <td>80</td>\n",
       "      <td>3.5</td>\n",
       "    </tr>\n",
       "    <tr>\n",
       "      <th>23977</th>\n",
       "      <td>NaN</td>\n",
       "      <td>서울특별시 강남구 대치동</td>\n",
       "      <td>992</td>\n",
       "      <td>현대1</td>\n",
       "      <td>84.27</td>\n",
       "      <td>202305</td>\n",
       "      <td>27</td>\n",
       "      <td>45000.0</td>\n",
       "      <td>14</td>\n",
       "      <td>1990</td>\n",
       "      <td>sub</td>\n",
       "      <td>2023-05-27</td>\n",
       "      <td>2023</td>\n",
       "      <td>5</td>\n",
       "      <td>2</td>\n",
       "      <td>80</td>\n",
       "      <td>3.5</td>\n",
       "    </tr>\n",
       "    <tr>\n",
       "      <th>23978</th>\n",
       "      <td>NaN</td>\n",
       "      <td>서울특별시 강남구 대치동</td>\n",
       "      <td>992</td>\n",
       "      <td>현대1</td>\n",
       "      <td>84.27</td>\n",
       "      <td>202306</td>\n",
       "      <td>17</td>\n",
       "      <td>40000.0</td>\n",
       "      <td>10</td>\n",
       "      <td>1990</td>\n",
       "      <td>sub</td>\n",
       "      <td>2023-06-17</td>\n",
       "      <td>2023</td>\n",
       "      <td>6</td>\n",
       "      <td>2</td>\n",
       "      <td>80</td>\n",
       "      <td>3.5</td>\n",
       "    </tr>\n",
       "  </tbody>\n",
       "</table>\n",
       "</div>"
      ],
      "text/plain": [
       "        id        sigungu jibun apt_name  exclusive_use_area  \\\n",
       "23974  NaN  서울특별시 강남구 대치동   992      현대1               84.27   \n",
       "23975  NaN  서울특별시 강남구 대치동   992      현대1               84.89   \n",
       "23976  NaN  서울특별시 강남구 대치동   992      현대1               84.89   \n",
       "23977  NaN  서울특별시 강남구 대치동   992      현대1               84.27   \n",
       "23978  NaN  서울특별시 강남구 대치동   992      현대1               84.27   \n",
       "\n",
       "       transaction_year_month transaction_day  transaction_real_price  floor  \\\n",
       "23974                  202303              25                 50000.0     14   \n",
       "23975                  202305              23                 52500.0      6   \n",
       "23976                  202305              23                 52500.0      6   \n",
       "23977                  202305              27                 45000.0     14   \n",
       "23978                  202306              17                 40000.0     10   \n",
       "\n",
       "       year_of_completion train_test_sub transaction_date  transaction_year  \\\n",
       "23974                1990            sub       2023-03-25              2023   \n",
       "23975                1990            sub       2023-05-23              2023   \n",
       "23976                1990            sub       2023-05-23              2023   \n",
       "23977                1990            sub       2023-05-27              2023   \n",
       "23978                1990            sub       2023-06-17              2023   \n",
       "\n",
       "       transaction_month  bucket_area  new_area  interest_rate  \n",
       "23974                  3            2        80            3.5  \n",
       "23975                  5            2        80            3.5  \n",
       "23976                  5            2        80            3.5  \n",
       "23977                  5            2        80            3.5  \n",
       "23978                  6            2        80            3.5  "
      ]
     },
     "execution_count": 124,
     "metadata": {},
     "output_type": "execute_result"
    }
   ],
   "source": [
    "ver3_all_data = all_data.copy()\n",
    "\n",
    "test_apt_name = sorted(list(tmp_test['apt_name'].unique()))\n",
    "ver3_all_data = ver3_all_data[ver3_all_data['apt_name'].isin(test_apt_name)]\n",
    "ver3_all_data.tail()"
   ]
  },
  {
   "cell_type": "code",
   "execution_count": 125,
   "id": "428a4b3d",
   "metadata": {},
   "outputs": [
    {
     "name": "stdout",
     "output_type": "stream",
     "text": [
      "개포우성1  :  [80, 120, 150, 180]\n",
      "개포우성2  :  [80, 120, 150]\n",
      "대우아이빌멤버스(891-26)  :  [20, 30, 40, 50]\n",
      "대우아이빌명문가(891-23)  :  [30, 40, 50]\n",
      "대치삼성  :  [50, 80, 90, 100]\n",
      "대치아이파크  :  [50, 80, 110, 140]\n",
      "대치우성아파트1동,2동,3동,5동,6동,7동  :  [80, 110]\n",
      "대치현대  :  [50, 80, 100, 110]\n",
      "대치효성  :  [50, 70, 80]\n",
      "동부센트레빌  :  [120, 140, 160]\n",
      "래미안대치하이스턴  :  [110]\n",
      "선경1차(1동-7동)  :  [80, 110, 130, 160]\n",
      "선경2차(8동-12동)  :  [80, 120, 160]\n",
      "선릉역대우아이빌(890-49)  :  [20, 40]\n",
      "쌍용대치2  :  [80, 120]\n",
      "쌍용대치아파트1동,2동,3동,5동,6동  :  [80, 120, 140]\n",
      "은마  :  [70, 80]\n",
      "테헤란로대우아이빌(891-6)  :  [20, 30, 50, 60]\n",
      "포스코더샵  :  [130, 160]\n",
      "한보미도맨션1  :  [80, 120, 160, 190]\n",
      "한보미도맨션2  :  [80, 110, 120, 150, 190]\n",
      "현대1  :  [80]\n",
      "래미안대치팰리스  :  [50, 80, 90, 110, 150]\n",
      "풍림아이원2차202동  :  [110, 130, 150]\n",
      "대치SKVIEW  :  [50, 80, 90, 110, 120]\n",
      "(977-)  :  [50, 70, 80]\n"
     ]
    }
   ],
   "source": [
    "ver3_all_data['exclusive_use_area'] = ver3_all_data['exclusive_use_area'].astype(int)\n",
    "for tmp in ver3_all_data['apt_name'].unique():\n",
    "    print(tmp,' : ',sorted(ver3_all_data[ver3_all_data['apt_name']==tmp]['new_area'].unique()))"
   ]
  },
  {
   "cell_type": "markdown",
   "id": "4cf8c796",
   "metadata": {},
   "source": [
    "### new apt_id  \n",
    "- apt_name 과 new_area 로 그룹화하여 새로운 apt_id feature 생성"
   ]
  },
  {
   "cell_type": "code",
   "execution_count": 126,
   "id": "74b4520a",
   "metadata": {},
   "outputs": [
    {
     "name": "stdout",
     "output_type": "stream",
     "text": [
      "0 82\n"
     ]
    },
    {
     "data": {
      "text/plain": [
       "set()"
      ]
     },
     "execution_count": 126,
     "metadata": {},
     "output_type": "execute_result"
    }
   ],
   "source": [
    "ver3_all_data['apt_id'] = ver3_all_data.groupby(['apt_name','new_area']).ngroup()\n",
    "print(min(ver3_all_data['apt_id']),max(ver3_all_data['apt_id']))\n",
    "\n",
    "set(ver3_all_data[ver3_all_data['train_test_sub']=='test']['apt_id'].unique()) -\\\n",
    "set(ver3_all_data[ver3_all_data['train_test_sub']!='test']['apt_id'].unique())"
   ]
  },
  {
   "cell_type": "markdown",
   "id": "50a21d58",
   "metadata": {},
   "source": [
    "## get_recent_price"
   ]
  },
  {
   "cell_type": "code",
   "execution_count": 127,
   "id": "127b2acb",
   "metadata": {},
   "outputs": [],
   "source": [
    "def get_recent_price(idx, all_data,train=1):\n",
    "    '''\n",
    "    idx : index\n",
    "    all_data : 데이터 셋\n",
    "    train : 1일 경우 매매가격 return, 0일 경우 전세 가격 return \n",
    "    \n",
    "    return : 현재 계약일자보다 과거에 이루어진 같은 apt_id의 계약 중에 \n",
    "             가장 최근의 매매/전세 계약금액을 return \n",
    "             \n",
    "             만약 현재 계약일자보다 과거에 이루어진 같은 apt_id의 계약이 없다면 \n",
    "             현재 계약연도와 같고 같은 bucket_area 값을 가진 데이터들의 \n",
    "             매매/전세 계약금액을 평균을 return \n",
    "             \n",
    "              ㄴ 이 과정에서 미래의 데이터를 사용할 여지가 있음. \n",
    "                ex) 현재 계약연도가 2023년이지만 현재 계약일자보다 과거에 이루어진 같은 apt_id의 계약이 없는 경우\n",
    "                    현재 계약일자보다 더 미래의 계약일자의 계약 금액이 평균값에 포함될 수 있음. (전세 계약금액을 구하는 경우)\n",
    "                \n",
    "                하지만 그런 경우 없는 것 확인(check_list)\n",
    "    \n",
    "    '''\n",
    "    temp_df = all_data.loc[:idx] # 현재 시간까지 전체 데이터\n",
    "    check=False\n",
    "    \n",
    "\n",
    "    if train:\n",
    "        temp_df = temp_df[\n",
    "            (temp_df['train_test_sub'] == 'train') &\n",
    "            (temp_df['transaction_date'] < row['transaction_date']) &\n",
    "            (temp_df['apt_id'] == row['apt_id']) \n",
    "        ]\n",
    "        \n",
    "        if len(temp_df) == 0:\n",
    "            check=True\n",
    "            temp_df = all_data[\n",
    "                (all_data['train_test_sub'] == 'train') &\n",
    "                (all_data['transaction_year'] == row['transaction_year']) &\n",
    "                (all_data['bucket_area'] == row['bucket_area']) \n",
    "            ]\n",
    "    else:\n",
    "        temp_df = temp_df[\n",
    "            (temp_df['train_test_sub'] == 'sub') &\n",
    "            (temp_df['transaction_date'] < row['transaction_date']) &\n",
    "            (temp_df['apt_id'] == row['apt_id']) \n",
    "        ]\n",
    "        \n",
    "        if len(temp_df) == 0:\n",
    "            check=True\n",
    "            temp_df = all_data[\n",
    "                (all_data['train_test_sub'] == 'sub') &\n",
    "                (all_data['transaction_year'] == row['transaction_year']) &\n",
    "                (all_data['bucket_area'] == row['bucket_area']) \n",
    "            ]\n",
    "            \n",
    "    if check:\n",
    "        # 현재 계약일 이전 같은 apt_id의 계약이 없는 경우의 계약연도 \n",
    "        check_list.append(all_data.loc[idx,'transaction_year'])\n",
    "        recent_price = temp_df['transaction_real_price'].mean()\n",
    "    else:\n",
    "        recent_price = temp_df.iloc[-1]['transaction_real_price']\n",
    "        \n",
    "    return recent_price"
   ]
  },
  {
   "cell_type": "code",
   "execution_count": 128,
   "id": "f3dace40",
   "metadata": {
    "scrolled": true
   },
   "outputs": [
    {
     "name": "stderr",
     "output_type": "stream",
     "text": [
      "100%|██████████████████████████████████████████████████████████████████| 21864/21864 [00:04<00:00, 4921.72it/s]\n"
     ]
    }
   ],
   "source": [
    "# ver2_all_data\n",
    "ver2_all_data = ver2_all_data.sort_values(by=['transaction_date','id']).reset_index(drop=True)\n",
    "global check_list\n",
    "check_list = []\n",
    "for idx, row in tqdm(ver2_all_data.iterrows(), total = ver2_all_data.shape[0]):\n",
    "    if row['train_test_sub'] == 'sub':  \n",
    "        continue\n",
    "    ver2_all_data.loc[idx, 'recent_rent_price'] = get_recent_price(idx, ver2_all_data,0)"
   ]
  },
  {
   "cell_type": "code",
   "execution_count": 129,
   "id": "990111b5",
   "metadata": {},
   "outputs": [
    {
     "name": "stdout",
     "output_type": "stream",
     "text": [
      "[2014, 2014, 2014, 2014, 2014, 2014, 2014, 2014, 2014, 2014]\n"
     ]
    }
   ],
   "source": [
    "print(check_list)"
   ]
  },
  {
   "cell_type": "code",
   "execution_count": 130,
   "id": "7a74849c",
   "metadata": {},
   "outputs": [
    {
     "name": "stderr",
     "output_type": "stream",
     "text": [
      "100%|██████████████████████████████████████████████████████████████████| 21864/21864 [00:04<00:00, 5259.94it/s]"
     ]
    },
    {
     "name": "stdout",
     "output_type": "stream",
     "text": [
      "[2014, 2014, 2014, 2014, 2014, 2014, 2014, 2014, 2014, 2014, 2014, 2014, 2014, 2014, 2014, 2014, 2014, 2014, 2014, 2014, 2014, 2014, 2014, 2014, 2014, 2014, 2014, 2014, 2014, 2014, 2014, 2014, 2014, 2014, 2014, 2014, 2014, 2014, 2014, 2014, 2014, 2014, 2014, 2014, 2014, 2014, 2014, 2014, 2014, 2014, 2014, 2014, 2014, 2016]\n"
     ]
    },
    {
     "name": "stderr",
     "output_type": "stream",
     "text": [
      "\n"
     ]
    }
   ],
   "source": [
    "# ver3_all_data\n",
    "ver3_all_data = ver3_all_data.sort_values(by=['transaction_date','id']).reset_index(drop=True)\n",
    "check_list = []\n",
    "global check_list\n",
    "for idx, row in tqdm(ver3_all_data.iterrows(), total = ver3_all_data.shape[0]):\n",
    "    if row['train_test_sub'] == 'sub':  \n",
    "        continue\n",
    "    ver3_all_data.loc[idx, 'recent_rent_price'] = get_recent_price(idx, ver3_all_data,0)\n",
    "print(check_list)"
   ]
  },
  {
   "cell_type": "code",
   "execution_count": 131,
   "id": "c0951e48",
   "metadata": {},
   "outputs": [
    {
     "data": {
      "text/plain": [
       "Index(['id', 'sigungu', 'jibun', 'apt_name', 'exclusive_use_area',\n",
       "       'transaction_year_month', 'transaction_day', 'transaction_real_price',\n",
       "       'floor', 'year_of_completion', 'train_test_sub', 'transaction_date',\n",
       "       'transaction_year', 'transaction_month', 'bucket_area', 'new_area',\n",
       "       'interest_rate', 'apt_id', 'recent_rent_price'],\n",
       "      dtype='object')"
      ]
     },
     "execution_count": 131,
     "metadata": {},
     "output_type": "execute_result"
    }
   ],
   "source": [
    "ver2_all_data.columns"
   ]
  },
  {
   "cell_type": "markdown",
   "id": "ca6792a4",
   "metadata": {},
   "source": [
    "최근 전세 데이터를 잘 불러오는지 확인"
   ]
  },
  {
   "cell_type": "code",
   "execution_count": 133,
   "id": "5fc49b69",
   "metadata": {
    "scrolled": true
   },
   "outputs": [
    {
     "data": {
      "text/html": [
       "<div>\n",
       "<style scoped>\n",
       "    .dataframe tbody tr th:only-of-type {\n",
       "        vertical-align: middle;\n",
       "    }\n",
       "\n",
       "    .dataframe tbody tr th {\n",
       "        vertical-align: top;\n",
       "    }\n",
       "\n",
       "    .dataframe thead th {\n",
       "        text-align: right;\n",
       "    }\n",
       "</style>\n",
       "<table border=\"1\" class=\"dataframe\">\n",
       "  <thead>\n",
       "    <tr style=\"text-align: right;\">\n",
       "      <th></th>\n",
       "      <th>apt_name</th>\n",
       "      <th>transaction_real_price</th>\n",
       "      <th>train_test_sub</th>\n",
       "      <th>transaction_date</th>\n",
       "      <th>recent_rent_price</th>\n",
       "    </tr>\n",
       "  </thead>\n",
       "  <tbody>\n",
       "    <tr>\n",
       "      <th>48</th>\n",
       "      <td>은마</td>\n",
       "      <td>37000.0</td>\n",
       "      <td>sub</td>\n",
       "      <td>2014-01-07</td>\n",
       "      <td>NaN</td>\n",
       "    </tr>\n",
       "    <tr>\n",
       "      <th>49</th>\n",
       "      <td>은마</td>\n",
       "      <td>35000.0</td>\n",
       "      <td>sub</td>\n",
       "      <td>2014-01-07</td>\n",
       "      <td>NaN</td>\n",
       "    </tr>\n",
       "    <tr>\n",
       "      <th>52</th>\n",
       "      <td>은마</td>\n",
       "      <td>77500.0</td>\n",
       "      <td>train</td>\n",
       "      <td>2014-01-08</td>\n",
       "      <td>35000.0</td>\n",
       "    </tr>\n",
       "  </tbody>\n",
       "</table>\n",
       "</div>"
      ],
      "text/plain": [
       "   apt_name  transaction_real_price train_test_sub transaction_date  \\\n",
       "48       은마                 37000.0            sub       2014-01-07   \n",
       "49       은마                 35000.0            sub       2014-01-07   \n",
       "52       은마                 77500.0          train       2014-01-08   \n",
       "\n",
       "    recent_rent_price  \n",
       "48                NaN  \n",
       "49                NaN  \n",
       "52            35000.0  "
      ]
     },
     "execution_count": 133,
     "metadata": {},
     "output_type": "execute_result"
    }
   ],
   "source": [
    "ver2_all_data[ver2_all_data['apt_id']==18][13:16][['apt_name','transaction_real_price','train_test_sub','transaction_date','recent_rent_price']]"
   ]
  },
  {
   "cell_type": "code",
   "execution_count": 134,
   "id": "e4823335",
   "metadata": {},
   "outputs": [
    {
     "data": {
      "text/html": [
       "<div>\n",
       "<style scoped>\n",
       "    .dataframe tbody tr th:only-of-type {\n",
       "        vertical-align: middle;\n",
       "    }\n",
       "\n",
       "    .dataframe tbody tr th {\n",
       "        vertical-align: top;\n",
       "    }\n",
       "\n",
       "    .dataframe thead th {\n",
       "        text-align: right;\n",
       "    }\n",
       "</style>\n",
       "<table border=\"1\" class=\"dataframe\">\n",
       "  <thead>\n",
       "    <tr style=\"text-align: right;\">\n",
       "      <th></th>\n",
       "      <th>apt_name</th>\n",
       "      <th>transaction_real_price</th>\n",
       "      <th>train_test_sub</th>\n",
       "      <th>transaction_date</th>\n",
       "      <th>recent_rent_price</th>\n",
       "    </tr>\n",
       "  </thead>\n",
       "  <tbody>\n",
       "    <tr>\n",
       "      <th>21107</th>\n",
       "      <td>테헤란로대우아이빌(891-6)</td>\n",
       "      <td>32000.0</td>\n",
       "      <td>sub</td>\n",
       "      <td>2023-02-27</td>\n",
       "      <td>NaN</td>\n",
       "    </tr>\n",
       "    <tr>\n",
       "      <th>21164</th>\n",
       "      <td>테헤란로대우아이빌(891-6)</td>\n",
       "      <td>NaN</td>\n",
       "      <td>test</td>\n",
       "      <td>2023-03-10</td>\n",
       "      <td>32000.0</td>\n",
       "    </tr>\n",
       "    <tr>\n",
       "      <th>21277</th>\n",
       "      <td>테헤란로대우아이빌(891-6)</td>\n",
       "      <td>32000.0</td>\n",
       "      <td>sub</td>\n",
       "      <td>2023-03-24</td>\n",
       "      <td>NaN</td>\n",
       "    </tr>\n",
       "    <tr>\n",
       "      <th>21294</th>\n",
       "      <td>테헤란로대우아이빌(891-6)</td>\n",
       "      <td>28000.0</td>\n",
       "      <td>sub</td>\n",
       "      <td>2023-03-25</td>\n",
       "      <td>NaN</td>\n",
       "    </tr>\n",
       "    <tr>\n",
       "      <th>21324</th>\n",
       "      <td>테헤란로대우아이빌(891-6)</td>\n",
       "      <td>30000.0</td>\n",
       "      <td>sub</td>\n",
       "      <td>2023-03-30</td>\n",
       "      <td>NaN</td>\n",
       "    </tr>\n",
       "    <tr>\n",
       "      <th>21402</th>\n",
       "      <td>테헤란로대우아이빌(891-6)</td>\n",
       "      <td>30950.0</td>\n",
       "      <td>sub</td>\n",
       "      <td>2023-04-12</td>\n",
       "      <td>NaN</td>\n",
       "    </tr>\n",
       "    <tr>\n",
       "      <th>21443</th>\n",
       "      <td>테헤란로대우아이빌(891-6)</td>\n",
       "      <td>NaN</td>\n",
       "      <td>test</td>\n",
       "      <td>2023-04-20</td>\n",
       "      <td>30950.0</td>\n",
       "    </tr>\n",
       "    <tr>\n",
       "      <th>21582</th>\n",
       "      <td>테헤란로대우아이빌(891-6)</td>\n",
       "      <td>28000.0</td>\n",
       "      <td>sub</td>\n",
       "      <td>2023-05-12</td>\n",
       "      <td>NaN</td>\n",
       "    </tr>\n",
       "    <tr>\n",
       "      <th>21613</th>\n",
       "      <td>테헤란로대우아이빌(891-6)</td>\n",
       "      <td>NaN</td>\n",
       "      <td>test</td>\n",
       "      <td>2023-05-18</td>\n",
       "      <td>28000.0</td>\n",
       "    </tr>\n",
       "    <tr>\n",
       "      <th>21660</th>\n",
       "      <td>테헤란로대우아이빌(891-6)</td>\n",
       "      <td>50000.0</td>\n",
       "      <td>sub</td>\n",
       "      <td>2023-05-23</td>\n",
       "      <td>NaN</td>\n",
       "    </tr>\n",
       "  </tbody>\n",
       "</table>\n",
       "</div>"
      ],
      "text/plain": [
       "               apt_name  transaction_real_price train_test_sub  \\\n",
       "21107  테헤란로대우아이빌(891-6)                 32000.0            sub   \n",
       "21164  테헤란로대우아이빌(891-6)                     NaN           test   \n",
       "21277  테헤란로대우아이빌(891-6)                 32000.0            sub   \n",
       "21294  테헤란로대우아이빌(891-6)                 28000.0            sub   \n",
       "21324  테헤란로대우아이빌(891-6)                 30000.0            sub   \n",
       "21402  테헤란로대우아이빌(891-6)                 30950.0            sub   \n",
       "21443  테헤란로대우아이빌(891-6)                     NaN           test   \n",
       "21582  테헤란로대우아이빌(891-6)                 28000.0            sub   \n",
       "21613  테헤란로대우아이빌(891-6)                     NaN           test   \n",
       "21660  테헤란로대우아이빌(891-6)                 50000.0            sub   \n",
       "\n",
       "      transaction_date  recent_rent_price  \n",
       "21107       2023-02-27                NaN  \n",
       "21164       2023-03-10            32000.0  \n",
       "21277       2023-03-24                NaN  \n",
       "21294       2023-03-25                NaN  \n",
       "21324       2023-03-30                NaN  \n",
       "21402       2023-04-12                NaN  \n",
       "21443       2023-04-20            30950.0  \n",
       "21582       2023-05-12                NaN  \n",
       "21613       2023-05-18            28000.0  \n",
       "21660       2023-05-23                NaN  "
      ]
     },
     "execution_count": 134,
     "metadata": {},
     "output_type": "execute_result"
    }
   ],
   "source": [
    "ver2_all_data[ver2_all_data['apt_id']==19][380:390][['apt_name','transaction_real_price','train_test_sub','transaction_date','recent_rent_price']]"
   ]
  },
  {
   "cell_type": "markdown",
   "id": "d09fafa7",
   "metadata": {},
   "source": [
    "# Modeling"
   ]
  },
  {
   "cell_type": "markdown",
   "id": "472397fc",
   "metadata": {},
   "source": [
    "## train_valid_split"
   ]
  },
  {
   "cell_type": "code",
   "execution_count": 151,
   "id": "15df4b67",
   "metadata": {},
   "outputs": [],
   "source": [
    "col = ['exclusive_use_area','floor','transaction_year', 'transaction_month', \n",
    "       'interest_rate','bucket_area', 'apt_id', 'recent_rent_price']"
   ]
  },
  {
   "cell_type": "code",
   "execution_count": 152,
   "id": "1b81f32a",
   "metadata": {},
   "outputs": [],
   "source": [
    "train_x = ver2_all_data[\n",
    "    (ver2_all_data['train_test_sub']=='train') &\n",
    "    (ver2_all_data['transaction_year'] < 2022)\n",
    "][col]\n",
    "\n",
    "train_y = ver2_all_data[\n",
    "    (ver2_all_data['train_test_sub']=='train') &\n",
    "    (ver2_all_data['transaction_year'] < 2022)\n",
    "]['transaction_real_price']\n",
    "\n",
    "val_x = ver2_all_data[\n",
    "    (ver2_all_data['train_test_sub']=='train') &\n",
    "    (ver2_all_data['transaction_year'] == 2022)\n",
    "][col]\n",
    "\n",
    "val_y = ver2_all_data[\n",
    "    (ver2_all_data['train_test_sub']=='train') &\n",
    "    (ver2_all_data['transaction_year'] == 2022)\n",
    "]['transaction_real_price']"
   ]
  },
  {
   "cell_type": "markdown",
   "id": "94a95239",
   "metadata": {},
   "source": [
    "## train and validation"
   ]
  },
  {
   "cell_type": "code",
   "execution_count": 153,
   "id": "040b21df",
   "metadata": {},
   "outputs": [],
   "source": [
    "model_dt = DecisionTreeRegressor(random_state=1)\n",
    "model_rf = RandomForestRegressor(random_state=1)\n",
    "model_gb = GradientBoostingRegressor(random_state=1)\n",
    "model_xgb = xgb.XGBRegressor(random_state=1)\n",
    "model_lgb = lgb.LGBMRegressor(random_state=1)\n",
    "model_cb = CatBoostRegressor(cat_features=['apt_id','bucket_area'],random_state=1)\n"
   ]
  },
  {
   "cell_type": "code",
   "execution_count": 154,
   "id": "179ae474",
   "metadata": {},
   "outputs": [],
   "source": [
    "model_dict = {'dt': model_dt, 'rf': model_rf, 'gb': model_gb,'xgb': model_xgb, 'lgb': model_lgb, 'cb': model_cb}"
   ]
  },
  {
   "cell_type": "code",
   "execution_count": 155,
   "id": "b1e1b72e",
   "metadata": {
    "scrolled": true
   },
   "outputs": [
    {
     "name": "stdout",
     "output_type": "stream",
     "text": [
      "model: dt\n",
      "model: rf\n",
      "model: gb\n",
      "model: xgb\n",
      "model: lgb\n",
      "model: cb\n"
     ]
    }
   ],
   "source": [
    "for name in model_dict.keys():\n",
    "        print('model: {}'.format(name))\n",
    "        model = model_dict[name]\n",
    "        if name == 'cb':\n",
    "            model.fit(train_x, train_y,verbose=False)\n",
    "        else:\n",
    "            model.fit(train_x, train_y)"
   ]
  },
  {
   "cell_type": "code",
   "execution_count": 156,
   "id": "b7be211e",
   "metadata": {
    "scrolled": true
   },
   "outputs": [
    {
     "name": "stdout",
     "output_type": "stream",
     "text": [
      "dt : 44216.49541284404\n",
      "rf : 41459.47422018349\n",
      "gb : 39849.80337330492\n",
      "xgb : 30108.042162413993\n",
      "lgb : 36447.42919590957\n",
      "cb : 30064.24174472108\n"
     ]
    }
   ],
   "source": [
    "for name in model_dict.keys():\n",
    "        #print('model: {}'.format(name))\n",
    "        model = model_dict[name]\n",
    "        pred = model.predict(val_x)\n",
    "        mae = mean_absolute_error(val_y, pred)\n",
    "        print(f'{name} : {mae}')"
   ]
  },
  {
   "cell_type": "markdown",
   "id": "bef3e193",
   "metadata": {},
   "source": [
    "catboost의 성능이 가장 좋은 것을 확인"
   ]
  },
  {
   "cell_type": "markdown",
   "id": "b5c4bc99",
   "metadata": {},
   "source": [
    "## tuning"
   ]
  },
  {
   "cell_type": "code",
   "execution_count": 157,
   "id": "50ca3075",
   "metadata": {
    "scrolled": true
   },
   "outputs": [
    {
     "data": {
      "application/vnd.jupyter.widget-view+json": {
       "model_id": "7825e4da2786427485ab7fff3377f2a1",
       "version_major": 2,
       "version_minor": 0
      },
      "text/plain": [
       "  0%|          | 0/50 [00:00<?, ?it/s]"
      ]
     },
     "metadata": {},
     "output_type": "display_data"
    },
    {
     "name": "stdout",
     "output_type": "stream",
     "text": [
      "Best Params: {'n_estimators': 310}\n",
      "values:  28794.043427175126\n"
     ]
    }
   ],
   "source": [
    "def cb_objective(trial):\n",
    "    # 하이퍼파라미터 탐색 대상\n",
    "    n_estimators = trial.suggest_int('n_estimators', 10, 1000, step=100)\n",
    "\n",
    "    model = CatBoostRegressor(n_estimators=n_estimators,\n",
    "                              cat_features=['apt_id','bucket_area'],\n",
    "                              random_seed = 1)\n",
    "\n",
    "    model.fit(train_x, train_y,verbose=False)\n",
    "\n",
    "    # 검증 데이터로 평가\n",
    "    y_pred = model.predict(val_x)\n",
    "    mae = mean_absolute_error(val_y, y_pred)\n",
    "    return mae\n",
    "\n",
    "# Optuna를 사용하여 하이퍼파라미터 탐색\n",
    "optuna.logging.set_verbosity(optuna.logging.ERROR)\n",
    "study = optuna.create_study(direction='minimize')# 목표는 최소화\n",
    "study.set_user_attr('seed', 42)\n",
    "study.optimize(cb_objective, n_trials=50,show_progress_bar=True)  # 50회 반복하여 탐색\n",
    "\n",
    "# 최적의 하이퍼파라미터 값 출력\n",
    "best_params_cb = study.best_params\n",
    "print(\"Best Params:\", best_params_cb)\n",
    "print('values: ',study.best_trial.value)"
   ]
  },
  {
   "cell_type": "markdown",
   "id": "535ebb75",
   "metadata": {},
   "source": [
    "# submit\n",
    "  \n",
    " - Optuna를 사용해서 튜닝후 제출했음에도 점수가 낮아지지 않는 것을 보고  \n",
    "     validaiton set을 신뢰할 수 없다고 판단함.  \n",
    "     \n",
    " - 최종 제출은 ver2 데이터를 사용한 Catboost 모델과 ver3 데이터를 사용한 Catboost 모델을 앙상블하여\n",
    "     최종 에측을 하였음."
   ]
  },
  {
   "cell_type": "code",
   "execution_count": 158,
   "id": "2275ddb2",
   "metadata": {},
   "outputs": [],
   "source": [
    "col = ['exclusive_use_area','floor','transaction_year', 'transaction_month', \n",
    "       'interest_rate','bucket_area', 'apt_id', 'recent_rent_price']\n",
    "\n",
    "model_ver2 = CatBoostRegressor(n_estimators=500,cat_features=['apt_id','bucket_area'],random_seed=25)\n",
    "\n",
    "train_x = ver2_all_data[ver2_all_data['train_test_sub']=='train'].sort_values(by='id')[col]\n",
    "train_y = ver2_all_data[ver2_all_data['train_test_sub']=='train'].sort_values(by='id')['transaction_real_price']\n",
    "test_x = ver2_all_data[ver2_all_data['train_test_sub']=='test'].sort_values(by='id')[col]\n",
    "\n",
    "model_ver2.fit(train_x,train_y,verbose=False)\n",
    "pred_ver2 = model_ver2.predict(test_x)"
   ]
  },
  {
   "cell_type": "code",
   "execution_count": 159,
   "id": "90e9cb7a",
   "metadata": {
    "scrolled": false
   },
   "outputs": [],
   "source": [
    "col = ['exclusive_use_area','floor','transaction_year', 'transaction_month', \n",
    "       'interest_rate', 'apt_name', 'recent_rent_price','new_area']\n",
    "\n",
    "model_ver3 = CatBoostRegressor(cat_features=['new_area','apt_name'],random_seed=42)\n",
    "\n",
    "train_x = ver3_all_data[ver3_all_data['train_test_sub']=='train'].sort_values(by='id')[col]\n",
    "train_y = ver3_all_data[ver3_all_data['train_test_sub']=='train'].sort_values(by='id')['transaction_real_price']\n",
    "test_x = ver3_all_data[ver3_all_data['train_test_sub']=='test'].sort_values(by='id')[col]\n",
    "\n",
    "model_ver3.fit(train_x,train_y,verbose=False)\n",
    "pred_ver3 = model_ver3.predict(test_x)"
   ]
  },
  {
   "cell_type": "code",
   "execution_count": 160,
   "id": "f68dd727",
   "metadata": {},
   "outputs": [],
   "source": [
    "pred = (pred_ver2 + pred_ver3)/2"
   ]
  },
  {
   "cell_type": "code",
   "execution_count": 149,
   "id": "40745313",
   "metadata": {},
   "outputs": [],
   "source": [
    "submission['transaction_real_price'] = pred\n",
    "submission.to_csv('final_submission.csv', index=False)"
   ]
  }
 ],
 "metadata": {
  "kernelspec": {
   "display_name": "Python 3 (ipykernel)",
   "language": "python",
   "name": "python3"
  },
  "language_info": {
   "codemirror_mode": {
    "name": "ipython",
    "version": 3
   },
   "file_extension": ".py",
   "mimetype": "text/x-python",
   "name": "python",
   "nbconvert_exporter": "python",
   "pygments_lexer": "ipython3",
   "version": "3.9.16"
  },
  "toc": {
   "base_numbering": 1,
   "nav_menu": {},
   "number_sections": true,
   "sideBar": true,
   "skip_h1_title": false,
   "title_cell": "Table of Contents",
   "title_sidebar": "Contents",
   "toc_cell": false,
   "toc_position": {
    "height": "calc(100% - 180px)",
    "left": "10px",
    "top": "150px",
    "width": "306px"
   },
   "toc_section_display": true,
   "toc_window_display": true
  }
 },
 "nbformat": 4,
 "nbformat_minor": 5
}
