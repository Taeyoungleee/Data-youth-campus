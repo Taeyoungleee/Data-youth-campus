{
  "cells": [
    {
      "cell_type": "markdown",
      "metadata": {
        "id": "view-in-github",
        "colab_type": "text"
      },
      "source": [
        "<a href=\"https://colab.research.google.com/github/Taeyoungleee/Data-youth-campus/blob/main/05_%E1%84%80%E1%85%A2%E1%84%87%E1%85%A1%E1%86%AF%E1%84%8C%E1%85%A1%E1%84%83%E1%85%A9%E1%84%80%E1%85%AE.ipynb\" target=\"_parent\"><img src=\"https://colab.research.google.com/assets/colab-badge.svg\" alt=\"Open In Colab\"/></a>"
      ]
    },
    {
      "cell_type": "code",
      "execution_count": null,
      "metadata": {
        "id": "TpsXl7337xAn",
        "outputId": "74ab2ad4-858a-4f67-f13c-92b7763efdfb"
      },
      "outputs": [
        {
          "data": {
            "text/html": [
              "<style>.container { width:100% !important; }</style>"
            ],
            "text/plain": [
              "<IPython.core.display.HTML object>"
            ]
          },
          "metadata": {},
          "output_type": "display_data"
        },
        {
          "data": {
            "text/html": [
              "<style>\n",
              "div.CodeMirror, div.CodeMirror pre, div.CodeMirror-code,\n",
              "div.output_area pre, div.output_wrapper pre,\n",
              ".text_cell_render, .text_cell_render *\n",
              "{ font-family: Consolas; font-size: 15pt; line-height: 140%;}\n",
              "</style>"
            ],
            "text/plain": [
              "<IPython.core.display.HTML object>"
            ]
          },
          "metadata": {},
          "output_type": "display_data"
        }
      ],
      "source": [
        "from IPython.display import display, HTML, Markdown\n",
        "display(HTML(\"<style>.container { width:100% !important; }</style>\"))\n",
        "display(HTML(\"\"\"<style>\n",
        "div.CodeMirror, div.CodeMirror pre, div.CodeMirror-code,\n",
        "div.output_area pre, div.output_wrapper pre,\n",
        ".text_cell_render, .text_cell_render *\n",
        "{ font-family: Consolas; font-size: 15pt; line-height: 140%;}\n",
        "</style>\"\"\"))"
      ]
    },
    {
      "cell_type": "markdown",
      "metadata": {
        "id": "iU-uqvFs7xAp"
      },
      "source": [
        "# 제출 방법\n",
        "\n",
        "1. 파일 이름에서 '이름'을 자신의 이름으로 고쳐서 제출하시오.\n",
        "2. 제출 후 파일을 삭제하시오."
      ]
    },
    {
      "cell_type": "markdown",
      "metadata": {
        "id": "UUeJyWTg7xAq"
      },
      "source": [
        "![image.png](attachment:image.png)"
      ]
    },
    {
      "cell_type": "markdown",
      "metadata": {
        "id": "o1fPJGRX7xAq"
      },
      "source": [
        "# 문제1\n",
        "\n",
        "크롤링을 이용하여 아래 사이트에서 제품 설명(Description)에서 강조되어 이는 문구들만 아래와 같이 출력하시오.\n",
        "\n",
        "https://www.pythonscraping.com/pages/page3.html\n",
        "\n",
        "***결과***\n",
        "```\n",
        "Now with super-colorful bell peppers!\n",
        "8 entire dolls per set! Octuple the presents!\n",
        "Also hand-painted by trained monkeys!\n",
        "Or maybe he's only resting?\n",
        "Keep your friends guessing!\n",
        "```\n"
      ]
    },
    {
      "cell_type": "code",
      "execution_count": null,
      "metadata": {
        "scrolled": false,
        "id": "ZwBhNkm57xAr",
        "outputId": "32d82f40-3315-47e1-faaf-c292c2eb1a0f"
      },
      "outputs": [
        {
          "name": "stdout",
          "output_type": "stream",
          "text": [
            "Now with super-colorful bell peppers!\n",
            "8 entire dolls per set! Octuple the presents!\n",
            "Also hand-painted by trained monkeys!\n",
            "Or maybe he's only resting?\n",
            "Keep your friends guessing!\n"
          ]
        }
      ],
      "source": [
        "import requests as rq\n",
        "from bs4 import BeautifulSoup\n",
        "\n",
        "url = \"https://www.pythonscraping.com/pages/page3.html\"\n",
        "res = rq.get(url)\n",
        "soup = BeautifulSoup(res.text, 'lxml')\n",
        "\n",
        "tags = soup.find_all('span', class_='excitingNote') # find_all 함수: 리스트를 만들어냄\n",
        "for tag in tags:\n",
        "    print(tag.text)"
      ]
    },
    {
      "cell_type": "markdown",
      "metadata": {
        "id": "cxnvDoqm7xAr"
      },
      "source": [
        "# 문제2\n",
        "아래 사이트에서 시가총액 Top10 회사들의 이름을 아래와 같이 출력하시오.\n",
        "\n",
        "http://finance.naver.com/sise/\n",
        "\n",
        "***출력결과***\n",
        "```\n",
        "===시가총액 Top10===\n",
        "1위: 삼성전자\n",
        "2위: SK하이닉스\n",
        "3위: LG화학\n",
        "4위: 삼성전자우\n",
        "5위: NAVER\n",
        "6위: 삼성바이오로직스\n",
        "7위: 카카오\n",
        "8위: 현대차\n",
        "9위: 삼성SDI\n",
        "10위: 셀트리온\n",
        "```"
      ]
    },
    {
      "cell_type": "code",
      "execution_count": null,
      "metadata": {
        "ExecuteTime": {
          "end_time": "2022-05-01T05:40:37.807883Z",
          "start_time": "2022-05-01T05:40:37.201712Z"
        },
        "id": "ra87TC-X7xAr",
        "outputId": "0cfdf7f6-8317-4abe-dad1-95c7c6d469d6"
      },
      "outputs": [
        {
          "name": "stdout",
          "output_type": "stream",
          "text": [
            "===시가총액 Top10===\n",
            "1위: 삼성전자\n",
            "2위: LG에너지솔루션\n",
            "3위: SK하이닉스\n",
            "4위: 삼성바이오로직스\n",
            "5위: 삼성전자우\n",
            "6위: LG화학\n",
            "7위: 삼성SDI\n",
            "8위: 현대차\n",
            "9위: 기아\n",
            "10위: POSCO홀딩스\n"
          ]
        }
      ],
      "source": [
        "from bs4 import BeautifulSoup\n",
        "import requests as rq\n",
        "\n",
        "url = \"http://finance.naver.com/sise/\"\n",
        "res = rq.get(url)\n",
        "soup = BeautifulSoup(res.text, \"lxml\")\n",
        "\n",
        "print(\"===시가총액 Top10===\")\n",
        "tags = soup.find(id='siselist_tab_7').find_all('a')\n",
        "for i, v in enumerate(tags, 1):\n",
        "    print(f\"{i}위: {v.text}\")"
      ]
    },
    {
      "cell_type": "markdown",
      "metadata": {
        "id": "N4TwuEnX7xAs"
      },
      "source": [
        "# 문제3\n",
        "\n",
        "아래 사이트에서 기사의 등록시간과 제목을 아래와 같은 형식으로 5개만 출력하시오.\n",
        "\n",
        "https://entertain.naver.com/movie\n",
        "\n",
        "***출력***\n",
        "```\n",
        "[1분전] 설재원 쿨투라 편집장, 韓 최초 '골든글로브' 투표단 참여\n",
        "[4분전] '존 윅 4', 압도적인 스코어로 주말 박스오피스 1위\n",
        "[5분전] 한국 넘어 세계 관객 울린다…글로벌 스트리밍 입성, 뮤지컬 ‘친정엄마’\n",
        "[5분전] 뮤지컬 ‘베토벤’ 세종문화회관 첫 공연도 성료\n",
        "[8분전] '존 윅 4', 개봉 첫 주 72만 관객 돌파…5일 연속 박스오피스 1위\n",
        "```"
      ]
    },
    {
      "cell_type": "code",
      "execution_count": null,
      "metadata": {
        "id": "HLynbRvJ7xAs",
        "outputId": "5240ae4f-31b9-486b-cf5f-3f6fe3e01c2a"
      },
      "outputs": [
        {
          "name": "stdout",
          "output_type": "stream",
          "text": [
            "[1분전] '바비' 마고 로비 \"韓 팬들 생일 축하에 눈물 날 뻔했다\"[Oh!쎈 현장]\n",
            "[1분전] 마고 로비 “바비 인형 대신 진흙탕에서 놀던 아이였다”(바비)\n",
            "[1분전] '바비' 마고 로비 \"한국 팬들의 깜짝 생일 축하에 눈물날 뻔\"\n",
            "[1분전] 마고 로비 첫 내한 \"한국에서 생일 맞아…감동적이었다\"[SE★현장]\n",
            "[1분전] '바비' 마고 로비 \"韓에서 맞은 생일, 눈물 났다\"\n"
          ]
        }
      ],
      "source": [
        "import requests as rq\n",
        "from bs4 import BeautifulSoup\n",
        "\n",
        "url = \"https://entertain.naver.com/movie\"\n",
        "res = rq.get(url)\n",
        "soup = BeautifulSoup(res.text, 'lxml')\n",
        "\n",
        "tags = soup.find_all('div', class_='tit_area', limit=5)\n",
        "for tag in tags:\n",
        "    time=tag.find(\"em\").text\n",
        "    title = tag.find(\"a\").text\n",
        "    print(f\"[{time}] {title}\")\n"
      ]
    }
  ],
  "metadata": {
    "kernelspec": {
      "display_name": "Python 3 (ipykernel)",
      "language": "python",
      "name": "python3"
    },
    "language_info": {
      "codemirror_mode": {
        "name": "ipython",
        "version": 3
      },
      "file_extension": ".py",
      "mimetype": "text/x-python",
      "name": "python",
      "nbconvert_exporter": "python",
      "pygments_lexer": "ipython3",
      "version": "3.9.7"
    },
    "toc": {
      "base_numbering": 1,
      "nav_menu": {},
      "number_sections": true,
      "sideBar": true,
      "skip_h1_title": false,
      "title_cell": "Table of Contents",
      "title_sidebar": "Contents",
      "toc_cell": false,
      "toc_position": {},
      "toc_section_display": true,
      "toc_window_display": false
    },
    "colab": {
      "provenance": [],
      "include_colab_link": true
    }
  },
  "nbformat": 4,
  "nbformat_minor": 0
}