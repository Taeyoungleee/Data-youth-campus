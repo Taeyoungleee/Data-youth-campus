{
  "cells": [
    {
      "cell_type": "markdown",
      "metadata": {
        "id": "view-in-github",
        "colab_type": "text"
      },
      "source": [
        "<a href=\"https://colab.research.google.com/github/Taeyoungleee/Data-youth-campus/blob/main/03_find.ipynb\" target=\"_parent\"><img src=\"https://colab.research.google.com/assets/colab-badge.svg\" alt=\"Open In Colab\"/></a>"
      ]
    },
    {
      "cell_type": "code",
      "execution_count": null,
      "metadata": {
        "id": "dX2eRFnh7Zjv",
        "outputId": "73bfef4f-410f-4946-c9dc-9efa1f8b0099"
      },
      "outputs": [
        {
          "data": {
            "text/html": [
              "<style>.container { width:100% !important; }</style>"
            ],
            "text/plain": [
              "<IPython.core.display.HTML object>"
            ]
          },
          "metadata": {},
          "output_type": "display_data"
        },
        {
          "data": {
            "text/html": [
              "<style>\n",
              "div.CodeMirror, div.CodeMirror pre, div.CodeMirror-code,\n",
              "div.output_area pre, div.output_wrapper pre,\n",
              ".text_cell_render, .text_cell_render *\n",
              "{ font-family: Consolas; font-size: 15pt; line-height: 140%;}\n",
              "</style>"
            ],
            "text/plain": [
              "<IPython.core.display.HTML object>"
            ]
          },
          "metadata": {},
          "output_type": "display_data"
        }
      ],
      "source": [
        "from IPython.display import display, HTML, Markdown\n",
        "display(HTML(\"<style>.container { width:100% !important; }</style>\"))\n",
        "display(HTML(\"\"\"<style>\n",
        "div.CodeMirror, div.CodeMirror pre, div.CodeMirror-code,\n",
        "div.output_area pre, div.output_wrapper pre,\n",
        ".text_cell_render, .text_cell_render *\n",
        "{ font-family: Consolas; font-size: 15pt; line-height: 140%;}\n",
        "</style>\"\"\"))"
      ]
    },
    {
      "cell_type": "markdown",
      "metadata": {
        "id": "3cAICKO97Zjx"
      },
      "source": [
        "# 제출 방법\n",
        "\n",
        "1. 파일 이름에서 '이름'을 자신의 이름으로 고쳐서 제출하시오.\n",
        "2. 제출 후 파일을 삭제하시오.\n"
      ]
    },
    {
      "cell_type": "code",
      "execution_count": null,
      "metadata": {
        "ExecuteTime": {
          "end_time": "2022-04-03T13:51:28.062917Z",
          "start_time": "2022-04-03T13:51:28.047575Z"
        },
        "id": "dVfnlwnV7Zjy"
      },
      "outputs": [],
      "source": [
        "# 이 셀을 실행시키세요.\n",
        "from bs4 import BeautifulSoup\n",
        "\n",
        "html = \"\"\"\n",
        "<html>\n",
        "    <head><title class=\"c\">test site</title></head>\n",
        "    <body>\n",
        "        <p>test1</p>\n",
        "        <p class=\"c\" id=\"pp\">test2</p>\n",
        "        <p class=\"d\">test3</p></p>\n",
        "        <p class=\"e\">test4</p></p>\n",
        "        <a>a tag</a>\n",
        "        <b class=\"e\">b tag</b>\n",
        "    </body>\n",
        "</html>\"\"\"\n",
        "\n",
        "soup = BeautifulSoup(html, 'lxml')\n"
      ]
    },
    {
      "cell_type": "markdown",
      "metadata": {
        "id": "nl8Br4pO7Zjz"
      },
      "source": [
        "# 문제1\n",
        "BeautifulSoup 객체를 이용하여 `<p>` 태그를 찾아서 출력하시오.\n",
        "\n",
        "(.find() 함수 이용)\n",
        "\n",
        "***출력***\n",
        "```\n",
        "<p>test1</p>\n",
        "```"
      ]
    },
    {
      "cell_type": "code",
      "execution_count": null,
      "metadata": {
        "ExecuteTime": {
          "end_time": "2022-04-03T13:51:33.854758Z",
          "start_time": "2022-04-03T13:51:33.840829Z"
        },
        "id": "r8lgKl_t7Zjz",
        "outputId": "c0918220-4b74-48e7-8ade-3143a836cf85"
      },
      "outputs": [
        {
          "name": "stdout",
          "output_type": "stream",
          "text": [
            "<p>test1</p>\n"
          ]
        }
      ],
      "source": [
        "print(soup.find('p'))"
      ]
    },
    {
      "cell_type": "markdown",
      "metadata": {
        "id": "gxm7iHg47Zjz"
      },
      "source": [
        "# 문제2\n",
        "BeautifulSoup 객체를 이용하여 `<p>` 태그중에서 `class` 태그 속성이 `'d'` 인 태그를 찾아서 출력하시오.\n",
        "\n",
        "(.find() 함수 이용)\n",
        "\n",
        "***출력***\n",
        "```\n",
        "<p class=\"d\">test3</p>\n",
        "```"
      ]
    },
    {
      "cell_type": "code",
      "execution_count": null,
      "metadata": {
        "ExecuteTime": {
          "end_time": "2022-04-03T13:51:36.322466Z",
          "start_time": "2022-04-03T13:51:36.312067Z"
        },
        "id": "jqbW0YNM7Zj0",
        "outputId": "69bf791b-1ba0-4df3-8309-792b866dd29b"
      },
      "outputs": [
        {
          "name": "stdout",
          "output_type": "stream",
          "text": [
            "<p class=\"d\">test3</p>\n"
          ]
        }
      ],
      "source": [
        "print(soup.find('p', class_='d'))"
      ]
    },
    {
      "cell_type": "markdown",
      "metadata": {
        "id": "K-kfyVtZ7Zj0"
      },
      "source": [
        "# 문제3\n",
        "BeautifulSoup 객체를 이용하여 `id` 태그 속성값이 `'pp'` 인 태그를 찾아서 출력하시오.\n",
        "\n",
        "(.find() 함수 이용)\n",
        "\n",
        "***출력***\n",
        "```\n",
        "<p class=\"c\" id=\"pp\">test2</p>\n",
        "```"
      ]
    },
    {
      "cell_type": "code",
      "execution_count": null,
      "metadata": {
        "ExecuteTime": {
          "end_time": "2022-04-03T13:52:53.291312Z",
          "start_time": "2022-04-03T13:52:53.275968Z"
        },
        "id": "19dGEj0d7Zj0",
        "outputId": "2d53d969-a89d-4292-eb63-21f90e915ea9"
      },
      "outputs": [
        {
          "name": "stdout",
          "output_type": "stream",
          "text": [
            "<p class=\"c\" id=\"pp\">test2</p>\n"
          ]
        }
      ],
      "source": [
        "print(soup.find(id='pp'))"
      ]
    },
    {
      "cell_type": "markdown",
      "metadata": {
        "id": "Z_mZHUN87Zj0"
      },
      "source": [
        "# 문제4\n",
        "BeautifulSoup 객체를 이용하여 모든 `<p>` 태그를 찾아서 리스트 형태로 출력하시오.\n",
        "\n",
        "(.find_all() 함수 이용)\n",
        "\n",
        "***출력***\n",
        "```\n",
        "[<p>test1</p>, <p class=\"c\" id=\"pp\">test2</p>, <p class=\"d\">test3</p>, <p class=\"e\">test4</p>]\n",
        "```"
      ]
    },
    {
      "cell_type": "code",
      "execution_count": null,
      "metadata": {
        "ExecuteTime": {
          "end_time": "2022-04-03T13:53:15.316682Z",
          "start_time": "2022-04-03T13:53:15.306890Z"
        },
        "scrolled": true,
        "id": "7gGy5Eqc7Zj1",
        "outputId": "245e7e68-e0e0-46cd-d784-19fd36419fc2"
      },
      "outputs": [
        {
          "name": "stdout",
          "output_type": "stream",
          "text": [
            "[<p>test1</p>, <p class=\"c\" id=\"pp\">test2</p>, <p class=\"d\">test3</p>, <p class=\"e\">test4</p>]\n"
          ]
        }
      ],
      "source": [
        "print(soup.find_all('p'))"
      ]
    },
    {
      "cell_type": "markdown",
      "metadata": {
        "id": "QYE_imUI7Zj1"
      },
      "source": [
        "# 문제5\n",
        "BeautifulSoup 객체를 이용하여 `<p>` 태그 이면서 `class` 태그 속성 값이 `'e'`인 모든 태그를 찾아서 리스트 형태로 출력하시오.\n",
        "\n",
        "(.find_all() 함수 이용)\n",
        "\n",
        "***출력***\n",
        "```\n",
        "[<p class=\"e\">test4</p>]\n",
        "```"
      ]
    },
    {
      "cell_type": "code",
      "execution_count": null,
      "metadata": {
        "ExecuteTime": {
          "end_time": "2022-04-03T13:53:18.018852Z",
          "start_time": "2022-04-03T13:53:18.013866Z"
        },
        "scrolled": true,
        "id": "-HQhBd2M7Zj1",
        "outputId": "d376cf81-12ed-4bcb-c8fa-f7b123d5505b"
      },
      "outputs": [
        {
          "name": "stdout",
          "output_type": "stream",
          "text": [
            "[<p class=\"e\">test4</p>]\n"
          ]
        }
      ],
      "source": [
        "print(soup.find_all('p', class_='e'))"
      ]
    },
    {
      "cell_type": "markdown",
      "metadata": {
        "id": "s-guibbG7Zj1"
      },
      "source": [
        "# 문제6\n",
        "BeautifulSoup 객체를 이용하여 모든 `<p>` 태그들의 text를 한줄에 하나씩 출력하시오.\n",
        "\n",
        "(.find_all() 함수 이용)\n",
        "\n",
        "***출력***\n",
        "```\n",
        "test1\n",
        "test2\n",
        "test3\n",
        "test4\n",
        "```"
      ]
    },
    {
      "cell_type": "code",
      "execution_count": null,
      "metadata": {
        "ExecuteTime": {
          "end_time": "2022-04-03T13:53:28.193156Z",
          "start_time": "2022-04-03T13:53:28.182578Z"
        },
        "scrolled": true,
        "id": "qmTRz_3B7Zj1",
        "outputId": "fa559fb7-0ddd-4d5b-91b4-0205ba5044a3"
      },
      "outputs": [
        {
          "name": "stdout",
          "output_type": "stream",
          "text": [
            "test1\n",
            "test2\n",
            "test3\n",
            "test4\n"
          ]
        }
      ],
      "source": [
        "p_list = soup.find_all('p')\n",
        "for i in p_list:\n",
        "    print(i.text)"
      ]
    },
    {
      "cell_type": "markdown",
      "metadata": {
        "id": "kkzegK0x7Zj2"
      },
      "source": [
        "# 문제7\n",
        "BeautifulSoup 객체를 이용하여 `class` 태그속성 값이 `'e'`인 모든 태그들을 한줄에 하나씩 출력하시오.\n",
        "\n",
        "(.find_all() 함수 이용)\n",
        "\n",
        "***출력***\n",
        "```\n",
        "<p class=\"e\">test4</p>\n",
        "<b class=\"e\">b tag</b>\n",
        "```"
      ]
    },
    {
      "cell_type": "code",
      "execution_count": null,
      "metadata": {
        "ExecuteTime": {
          "end_time": "2022-04-03T13:53:34.258928Z",
          "start_time": "2022-04-03T13:53:34.248261Z"
        },
        "id": "Utu9eECZ7Zj2",
        "outputId": "595b5fc7-2b3c-4145-c273-43d8a38ae9a8"
      },
      "outputs": [
        {
          "name": "stdout",
          "output_type": "stream",
          "text": [
            "<p class=\"e\">test4</p>\n",
            "<b class=\"e\">b tag</b>\n"
          ]
        }
      ],
      "source": [
        "for i in soup.find_all(class_='e'):\n",
        "    print(i)"
      ]
    },
    {
      "cell_type": "markdown",
      "metadata": {
        "id": "LN6IQtPI7Zj2"
      },
      "source": [
        "# 문제8\n",
        "BeautifulSoup 객체를 이용하여 `class` 태그속성이 있는 모든 태그를 한줄에 하나씩 출력하시오.\n",
        "\n",
        "(.find_all() 함수 이용)\n",
        "\n",
        "***출력***\n",
        "```\n",
        "<title class=\"c\">test site</title>\n",
        "<p class=\"c\" id=\"pp\">test2</p>\n",
        "<p class=\"d\">test3</p>\n",
        "<p class=\"e\">test4</p>\n",
        "<b class=\"e\">b tag</b>\n",
        "```"
      ]
    },
    {
      "cell_type": "code",
      "execution_count": null,
      "metadata": {
        "ExecuteTime": {
          "end_time": "2022-04-03T13:53:43.374746Z",
          "start_time": "2022-04-03T13:53:43.366276Z"
        },
        "scrolled": false,
        "id": "1JcbN16c7Zj2",
        "outputId": "c8083aad-79b8-455a-da53-ba5539fbee62"
      },
      "outputs": [
        {
          "name": "stdout",
          "output_type": "stream",
          "text": [
            "<title class=\"c\">test site</title>\n",
            "<p class=\"c\" id=\"pp\">test2</p>\n",
            "<p class=\"d\">test3</p>\n",
            "<p class=\"e\">test4</p>\n",
            "<b class=\"e\">b tag</b>\n"
          ]
        }
      ],
      "source": [
        "for i in soup.find_all(class_=True):\n",
        "    print(i)"
      ]
    },
    {
      "cell_type": "markdown",
      "metadata": {
        "id": "NT_3ccn97Zj2"
      },
      "source": [
        "# 문제9\n",
        "https://www.python.org/\n",
        "\n",
        "위 홈페이지에 있는 첫 번째 `<img>` 태그의 태그속성 중에서 ```src```의 값을 출력하시오.\n",
        "\n",
        "***출력***\n",
        "```\n",
        "/static/img/python-logo.png\n",
        "```"
      ]
    },
    {
      "cell_type": "code",
      "execution_count": null,
      "metadata": {
        "ExecuteTime": {
          "end_time": "2022-04-03T14:25:50.502758Z",
          "start_time": "2022-04-03T14:25:50.366527Z"
        },
        "id": "wzd4PiJe7Zj2",
        "outputId": "ca2122fe-f29d-4a7f-8d00-7a6111ca59ad"
      },
      "outputs": [
        {
          "name": "stdout",
          "output_type": "stream",
          "text": [
            "/static/img/python-logo.png\n"
          ]
        }
      ],
      "source": [
        "import requests as rq\n",
        "from bs4 import BeautifulSoup\n",
        "\n",
        "res = rq.get('https://www.python.org')\n",
        "soup = BeautifulSoup(res.text, 'lxml')\n",
        "\n",
        "print(soup.find('img').get('src'))"
      ]
    },
    {
      "cell_type": "markdown",
      "metadata": {
        "id": "6J9P2E927Zj3"
      },
      "source": [
        "# 문제10\n",
        "\n",
        "아래 웹사이트에서 모든 ```<h2>``` 태그의 텍스트를 아래와 같이 출력하시오.\n",
        "\n",
        "https://ko.wikipedia.org/wiki/%EB%8C%80%ED%95%9C%EB%AF%BC%EA%B5%AD\n",
        "\n",
        "\n",
        "***출력***\n",
        "```\n",
        "목차\n",
        "국명\n",
        "지리\n",
        "역사\n",
        "정치\n",
        "국방\n",
        "경제\n",
        "사회\n",
        "문화\n",
        "국제 순위\n",
        "관련 항목\n",
        "각주\n",
        "외부 링크\n",
        "```"
      ]
    },
    {
      "cell_type": "code",
      "execution_count": null,
      "metadata": {
        "ExecuteTime": {
          "end_time": "2022-04-03T14:12:35.527277Z",
          "start_time": "2022-04-03T14:12:34.826324Z"
        },
        "id": "hn7I5SnI7Zj3",
        "outputId": "7594e9a8-1662-4de1-f5d2-d2c8121721c2"
      },
      "outputs": [
        {
          "name": "stdout",
          "output_type": "stream",
          "text": [
            "목차\n",
            "국호\n",
            "지리\n",
            "역사\n",
            "정치\n",
            "국방\n",
            "경제\n",
            "사회\n",
            "문화\n",
            "국제 순위\n",
            "같이 보기\n",
            "인용\n",
            "각주\n",
            "외부 링크\n"
          ]
        }
      ],
      "source": [
        "import requests as rq\n",
        "from bs4 import BeautifulSoup\n",
        "\n",
        "res = rq.get('https://ko.wikipedia.org/wiki/%EB%8C%80%ED%95%9C%EB%AF%BC%EA%B5%AD')\n",
        "soup = BeautifulSoup(res.text, 'lxml')\n",
        "\n",
        "for i in soup.find_all('h2'):\n",
        "    print(i.text.strip())"
      ]
    }
  ],
  "metadata": {
    "kernelspec": {
      "display_name": "Python 3 (ipykernel)",
      "language": "python",
      "name": "python3"
    },
    "language_info": {
      "codemirror_mode": {
        "name": "ipython",
        "version": 3
      },
      "file_extension": ".py",
      "mimetype": "text/x-python",
      "name": "python",
      "nbconvert_exporter": "python",
      "pygments_lexer": "ipython3",
      "version": "3.9.7"
    },
    "toc": {
      "base_numbering": 1,
      "nav_menu": {},
      "number_sections": true,
      "sideBar": true,
      "skip_h1_title": false,
      "title_cell": "Table of Contents",
      "title_sidebar": "Contents",
      "toc_cell": false,
      "toc_position": {},
      "toc_section_display": true,
      "toc_window_display": false
    },
    "colab": {
      "provenance": [],
      "include_colab_link": true
    }
  },
  "nbformat": 4,
  "nbformat_minor": 0
}