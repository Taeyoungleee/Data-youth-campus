{
  "cells": [
    {
      "cell_type": "markdown",
      "metadata": {
        "id": "view-in-github",
        "colab_type": "text"
      },
      "source": [
        "<a href=\"https://colab.research.google.com/github/Taeyoungleee/Data-youth-campus/blob/main/07_%E1%84%83%E1%85%A6%E1%84%8B%E1%85%B5%E1%84%90%E1%85%A5%E1%84%8C%E1%85%A5%E1%84%8C%E1%85%A1%E1%86%BC.ipynb\" target=\"_parent\"><img src=\"https://colab.research.google.com/assets/colab-badge.svg\" alt=\"Open In Colab\"/></a>"
      ]
    },
    {
      "cell_type": "code",
      "execution_count": null,
      "metadata": {
        "id": "5osYgOi08FHN",
        "outputId": "86c5c2ce-8899-449d-cbda-4657cfc4c206"
      },
      "outputs": [
        {
          "data": {
            "text/html": [
              "<style>.container { width:100% !important; }</style>"
            ],
            "text/plain": [
              "<IPython.core.display.HTML object>"
            ]
          },
          "metadata": {},
          "output_type": "display_data"
        },
        {
          "data": {
            "text/html": [
              "<style>\n",
              "div.CodeMirror, div.CodeMirror pre, div.CodeMirror-code,\n",
              "div.output_area pre, div.output_wrapper pre,\n",
              ".text_cell_render, .text_cell_render *\n",
              "{ font-family: Consolas; font-size: 15pt; line-height: 140%;}\n",
              "</style>"
            ],
            "text/plain": [
              "<IPython.core.display.HTML object>"
            ]
          },
          "metadata": {},
          "output_type": "display_data"
        }
      ],
      "source": [
        "from IPython.display import display, HTML, Markdown\n",
        "display(HTML(\"<style>.container { width:100% !important; }</style>\"))\n",
        "display(HTML(\"\"\"<style>\n",
        "div.CodeMirror, div.CodeMirror pre, div.CodeMirror-code,\n",
        "div.output_area pre, div.output_wrapper pre,\n",
        ".text_cell_render, .text_cell_render *\n",
        "{ font-family: Consolas; font-size: 15pt; line-height: 140%;}\n",
        "</style>\"\"\"))"
      ]
    },
    {
      "cell_type": "markdown",
      "metadata": {
        "id": "4_ohGyob8FHP"
      },
      "source": [
        "# 제출 방법\n",
        "\n",
        "1. 파일 이름에서 '이름'을 자신의 이름으로 고쳐서 제출하시오.\n",
        "2. 제출 후 파일을 삭제하시오."
      ]
    },
    {
      "cell_type": "code",
      "execution_count": null,
      "metadata": {
        "id": "meeSG7YE8FHR",
        "outputId": "61554220-7bd9-45c7-d330-98d7d2cc7c84"
      },
      "outputs": [
        {
          "name": "stdout",
          "output_type": "stream",
          "text": [
            "Requirement already satisfied: openpyxl in /Users/taeyoung/opt/anaconda3/lib/python3.9/site-packages (3.0.9)\r\n",
            "Requirement already satisfied: et-xmlfile in /Users/taeyoung/opt/anaconda3/lib/python3.9/site-packages (from openpyxl) (1.1.0)\r\n"
          ]
        }
      ],
      "source": [
        "!pip install openpyxl"
      ]
    },
    {
      "cell_type": "markdown",
      "metadata": {
        "id": "KUyDvwVO8FHR"
      },
      "source": [
        "# 문제1\n",
        "\n",
        "아래 url에서 keyword를 검색하여 나온 결과를 아래와 같이 출력해 주는 함수를 구현하시오.\n",
        "\n",
        "- 추출해야 하는 정보\n",
        "    1. 회사이름\n",
        "    2. 공고 제목\n",
        "    3. 공고 페이지 링크\n",
        "\n",
        "\n",
        "https://www.jobkorea.co.kr/\n",
        "\n",
        "\n",
        "- parameter:\n",
        "    - keyword: 검색하고 싶은 문자열\n",
        "- return: 없음\n",
        "\n",
        "결과는 서버 상황에 따라 달라 질 수 있음.\n",
        "\n",
        "***결과***\n",
        "\n",
        "```\n",
        "===JOB KOREA 검색: python===\n",
        "1. ㈜인라이플:[주4.5일근무] Python 개발직무 경력 채용\n",
        "https://www.jobkorea.co.kr/Recruit/GI_Read/41836669?Oem_Code=C1&logpath=1&stext=python&listno=1\n",
        "2. ㈜넥슨:[인텔리전스랩스] 플랫폼쉴드팀 백엔드 개발자 (Python/Go)\n",
        "https://www.jobkorea.co.kr/Recruit/GI_Read/41735692?Oem_Code=C1&logpath=1&stext=python&listno=2\n",
        "3. ㈜와이비에스:빅데이터 및 인공지능(Python 프로그램) 분석가 채용 공고\n",
        "https://www.jobkorea.co.kr/Recruit/GI_Read/41817879?Oem_Code=C1&logpath=1&stext=python&listno=3\n",
        "4. ㈜지니:[공개채용] (주)지니 ICT본부(Python 개발자) 공개채용\n",
        "https://www.jobkorea.co.kr/Recruit/GI_Read/41814583?Oem_Code=C1&logpath=1&stext=python&listno=4\n",
        "5. ㈜이글루코퍼레이션:연구소 IT개발(서버/백엔드/프론트엔드/Python/웹 퍼블리셔/정보보호인증) 채용\n",
        "https://www.jobkorea.co.kr/Recruit/GI_Read/41760914?Oem_Code=C1&logpath=1&stext=python&listno=5\n",
        "```"
      ]
    },
    {
      "cell_type": "code",
      "execution_count": null,
      "metadata": {
        "ExecuteTime": {
          "end_time": "2022-05-08T11:18:15.557784Z",
          "start_time": "2022-05-08T11:18:13.595145Z"
        },
        "id": "KLRb-gy38FHR",
        "outputId": "09431927-f620-4e75-bc68-3a1b89d3ae46"
      },
      "outputs": [
        {
          "name": "stdout",
          "output_type": "stream",
          "text": [
            "===JOB KOREA 검색: python===\n",
            "1. 통로이미지㈜:[정규/경력] 클립아트코리아 웹 개발자 채용 (Python / PHP)\n",
            "https://www.jobkorea.co.kr/Recruit/GI_Read/42123867?Oem_Code=C1&logpath=1&stext=python&listno=1\n",
            "2. ㈜넥슨:[인텔리전스랩스] 탐지응용팀 백엔드 개발자 (Python/Go)\n",
            "https://www.jobkorea.co.kr/Recruit/GI_Read/42256582?Oem_Code=C1&logpath=1&stext=python&listno=2\n",
            "3. ㈜넥슨:[인텔리전스랩스] 부스트파트 백엔드 개발자 (Python/OpenSearch)\n",
            "https://www.jobkorea.co.kr/Recruit/GI_Read/42001533?Oem_Code=C1&logpath=1&stext=python&listno=3\n",
            "4. ㈜비바리퍼블리카:[토스] Python Developer Assistant (계약직)\n",
            "https://www.jobkorea.co.kr/Recruit/GI_Read/41916416?Oem_Code=C1&logpath=1&stext=python&listno=4\n",
            "5. ㈜인라이플:[주4.5일근무] Python 개발직무 경력 채용\n",
            "https://www.jobkorea.co.kr/Recruit/GI_Read/41836669?Oem_Code=C1&logpath=1&stext=python&listno=5\n"
          ]
        }
      ],
      "source": [
        "import requests as rq\n",
        "from bs4 import BeautifulSoup\n",
        "from urllib.parse import urljoin\n",
        "from urllib.parse import quote\n",
        "\n",
        "def job_crawling(keyword):\n",
        "    print(f\"===JOB KOREA 검색: {keyword}===\")\n",
        "    url_encoded_keyword = quote(keyword) # 한글같은 유니코드는 잘 안되는 경우때문에\n",
        "    url = f\"https://www.jobkorea.co.kr/Search/?stext={url_encoded_keyword}\"\n",
        "    #print(url)\n",
        "    res = rq.get(url)\n",
        "    soup = BeautifulSoup(res.text, 'lxml')\n",
        "    #tags = soup.select('.recruit-info .post', limit=5)\n",
        "    tags = soup.select('.post', limit=5) # class가 post인 태그\n",
        "\n",
        "    for i, t in enumerate(tags, 1):\n",
        "        company = t.select_one('.post-list-corp a').text.strip()\n",
        "        title = t.select_one('.post-list-info a').text.strip()\n",
        "        link = urljoin(url, t.select_one('.post-list-info a').get('href'))\n",
        "        print(f\"{i}. {company}:{title}\")\n",
        "        print(link)\n",
        "\n",
        "\n",
        "job_crawling('python')\n",
        "#print()"
      ]
    },
    {
      "cell_type": "markdown",
      "metadata": {
        "id": "rLHGfOY98FHS"
      },
      "source": [
        "# 문제 2\n",
        "\n",
        "jobkorea 검색결과를 엑셀파일로 저장하는 함수를 작성하시오.\n",
        "\n",
        "1. 엑셀 형식으로 검색결과를 저장하는 함수를 만드시오.\n",
        "1. 엑셀 파일은 헤더를 가지고 있다.(```'번호', 회사', '제목', '링크'```)\n",
        "\n",
        "***결과***\n",
        "![image-2.png](attachment:image-2.png)"
      ]
    },
    {
      "cell_type": "code",
      "execution_count": null,
      "metadata": {
        "ExecuteTime": {
          "end_time": "2022-05-09T01:01:26.460884Z",
          "start_time": "2022-05-09T01:01:25.512860Z"
        },
        "scrolled": false,
        "id": "54V7ZZYh8FHS"
      },
      "outputs": [],
      "source": [
        "import requests as rq\n",
        "from bs4 import BeautifulSoup\n",
        "from urllib.parse import urljoin\n",
        "from urllib.parse import quote\n",
        "import openpyxl\n",
        "\n",
        "def job_crawling_xlsx(keyword, xlsx_file):\n",
        "    #print(f\"===JOB KOREA 검색: {keyword}===\")\n",
        "    url_encoded_keyword = quote(keyword)\n",
        "    url = f\"https://www.jobkorea.co.kr/Search/?stext={url_encoded_keyword}\"\n",
        "    #print(url)\n",
        "    res = rq.get(url)\n",
        "    soup = BeautifulSoup(res.text, 'lxml')\n",
        "    tags = soup.select('.recruit-info .post', limit=5)\n",
        "\n",
        "    wb = openpyxl.Workbook()\n",
        "    sheet = wb.active\n",
        "\n",
        "    header = ['번호', '회사', '제목', '링크']\n",
        "    sheet.append(header)\n",
        "\n",
        "    for i, t in enumerate(tags, 1):\n",
        "        company = t.select_one('.post-list-corp a').text.strip()\n",
        "        title = t.select_one('.post-list-info a').text.strip()\n",
        "        link = urljoin(url, t.select_one('.post-list-info a').get('href'))\n",
        "        #print(f\"{i}. {company}:{title}\")\n",
        "        #print(link)\n",
        "        row = [i, company, title, link]\n",
        "        sheet.append(row)\n",
        "    wb.save(xlsx_file)\n",
        "\n",
        "# 아래는 수정하지 마시오.\n",
        "job_crawling_xlsx(\"인공지능\", 'jobs.xlsx')\n"
      ]
    }
  ],
  "metadata": {
    "kernelspec": {
      "display_name": "Python 3 (ipykernel)",
      "language": "python",
      "name": "python3"
    },
    "language_info": {
      "codemirror_mode": {
        "name": "ipython",
        "version": 3
      },
      "file_extension": ".py",
      "mimetype": "text/x-python",
      "name": "python",
      "nbconvert_exporter": "python",
      "pygments_lexer": "ipython3",
      "version": "3.9.7"
    },
    "toc": {
      "base_numbering": 1,
      "nav_menu": {},
      "number_sections": true,
      "sideBar": true,
      "skip_h1_title": false,
      "title_cell": "Table of Contents",
      "title_sidebar": "Contents",
      "toc_cell": false,
      "toc_position": {},
      "toc_section_display": true,
      "toc_window_display": false
    },
    "colab": {
      "provenance": [],
      "include_colab_link": true
    }
  },
  "nbformat": 4,
  "nbformat_minor": 0
}